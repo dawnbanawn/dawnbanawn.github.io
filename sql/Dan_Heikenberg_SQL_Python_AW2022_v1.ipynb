{
 "cells": [
  {
   "cell_type": "code",
   "execution_count": 2,
   "id": "2f68e1fb",
   "metadata": {},
   "outputs": [
    {
     "name": "stdout",
     "output_type": "stream",
     "text": [
      "Requirement already satisfied: sqlalchemy in c:\\users\\schmoopie\\anaconda3\\lib\\site-packages (1.4.39)\n",
      "Requirement already satisfied: greenlet!=0.4.17 in c:\\users\\schmoopie\\anaconda3\\lib\\site-packages (from sqlalchemy) (2.0.1)\n",
      "Requirement already satisfied: pyodbc in c:\\users\\schmoopie\\anaconda3\\lib\\site-packages (4.0.34)\n"
     ]
    }
   ],
   "source": [
    "# sqlalchemy core\n",
    "#Installationer\n",
    "!pip install sqlalchemy\n",
    "#En bro mellan sqlalchemy och databasen\n",
    "!pip install pyodbc "
   ]
  },
  {
   "cell_type": "code",
   "execution_count": 3,
   "id": "058a4126",
   "metadata": {},
   "outputs": [],
   "source": [
    "#Importera libraries\n",
    "from sqlalchemy import create_engine, MetaData, Table, inspect\n",
    "import pandas as pd\n",
    "import numpy as np"
   ]
  },
  {
   "cell_type": "code",
   "execution_count": 4,
   "id": "f5ec6b89",
   "metadata": {},
   "outputs": [],
   "source": [
    "#Skapa engine\n",
    "#Instruktioner om hur man kopplar upp sig till databasen\n",
    "#Dialekt: Olika SQL-versioner (MSSQL, MySQL ..) kräver olika \"dialekter\"\n",
    "#Val av dialekt: pyodbc\n",
    "#Pool: Vart databasen finns att koppla upp sig mot\n",
    "#Databas: MSSQL\n",
    "def new_engine(dialect, server, database, user=None, password=None, integrated_security=True):\n",
    "    if integrated_security:\n",
    "        # For windows authentication\n",
    "        eng = f\"{dialect}://{server}/{database}?trusted_connection=yes&driver=ODBC+Driver+17+for+SQL+Server\"\n",
    "    else:\n",
    "         # For SQL Server authentication\n",
    "        eng = f\"{dialect}://{user}:{password}@{server}/{database}?driver=ODBC+Driver+17+for+SQL+Server\"\n",
    "    print(eng)\n",
    "    print(\"dd\")\n",
    "    #anropa create engine med string skapad ovan.\n",
    "    return create_engine(eng)"
   ]
  },
  {
   "cell_type": "code",
   "execution_count": 5,
   "id": "2c5fbcfd",
   "metadata": {},
   "outputs": [
    {
     "name": "stdout",
     "output_type": "stream",
     "text": [
      "mssql://DESKTOP-RC5L303/AdventureWorks2022?trusted_connection=yes&driver=ODBC+Driver+17+for+SQL+Server\n",
      "dd\n"
     ]
    }
   ],
   "source": [
    "engine = new_engine('mssql', 'DESKTOP-RC5L303', 'AdventureWorks2022', integrated_security=True)"
   ]
  },
  {
   "cell_type": "code",
   "execution_count": 6,
   "id": "01d7cab9",
   "metadata": {},
   "outputs": [
    {
     "name": "stdout",
     "output_type": "stream",
     "text": [
      "<class 'sqlalchemy.engine.base.Engine'>\n"
     ]
    }
   ],
   "source": [
    "print(type(engine))"
   ]
  },
  {
   "cell_type": "code",
   "execution_count": 7,
   "id": "d7b829b1",
   "metadata": {},
   "outputs": [],
   "source": [
    "# Koppla ihop databas och python med engine.connect -metoden\n",
    "connection = engine.connect()"
   ]
  },
  {
   "cell_type": "code",
   "execution_count": 8,
   "id": "06dcb478",
   "metadata": {},
   "outputs": [
    {
     "name": "stdout",
     "output_type": "stream",
     "text": [
      "<class 'sqlalchemy.engine.base.Connection'>\n"
     ]
    }
   ],
   "source": [
    "print(type(connection))"
   ]
  },
  {
   "cell_type": "code",
   "execution_count": 9,
   "id": "adc27ebb",
   "metadata": {},
   "outputs": [
    {
     "name": "stdout",
     "output_type": "stream",
     "text": [
      "['db_accessadmin', 'db_backupoperator', 'db_datareader', 'db_datawriter', 'db_ddladmin', 'db_denydatareader', 'db_denydatawriter', 'db_owner', 'db_securityadmin', 'dbo', 'guest', 'HumanResources', 'INFORMATION_SCHEMA', 'Person', 'Production', 'Purchasing', 'Sales', 'sys']\n"
     ]
    }
   ],
   "source": [
    "#Inspekt-funktionen\n",
    "inspector = inspect(engine)\n",
    "schemas = inspector.get_schema_names()\n",
    "print(schemas)"
   ]
  },
  {
   "cell_type": "code",
   "execution_count": 10,
   "id": "569c4dbf",
   "metadata": {},
   "outputs": [
    {
     "name": "stdout",
     "output_type": "stream",
     "text": [
      "db_accessadmin\n",
      "db_backupoperator\n",
      "db_datareader\n",
      "db_datawriter\n",
      "db_ddladmin\n",
      "db_denydatareader\n",
      "db_denydatawriter\n",
      "db_owner\n",
      "db_securityadmin\n",
      "dbo\n",
      "guest\n",
      "HumanResources\n",
      "INFORMATION_SCHEMA\n",
      "Person\n",
      "Production\n",
      "Purchasing\n",
      "Sales\n",
      "sys\n"
     ]
    }
   ],
   "source": [
    "# Schemas är kategorier, för organisering\n",
    "for schema in schemas:\n",
    "    print(schema)"
   ]
  },
  {
   "cell_type": "code",
   "execution_count": 11,
   "id": "d58bce8f",
   "metadata": {},
   "outputs": [
    {
     "name": "stdout",
     "output_type": "stream",
     "text": [
      "['CountryRegionCurrency', 'CreditCard', 'Currency', 'CurrencyRate', 'Customer', 'PersonCreditCard', 'SalesOrderDetail', 'SalesOrderHeader', 'SalesOrderHeaderSalesReason', 'SalesPerson', 'SalesPersonQuotaHistory', 'SalesReason', 'SalesTaxRate', 'SalesTerritory', 'SalesTerritoryHistory', 'ShoppingCartItem', 'SpecialOffer', 'SpecialOfferProduct', 'Store']\n"
     ]
    }
   ],
   "source": [
    "# Print alla table namn under schema Sales\n",
    "print(inspector.get_table_names(schema='Sales'))"
   ]
  },
  {
   "cell_type": "code",
   "execution_count": 12,
   "id": "b89fc6ab",
   "metadata": {},
   "outputs": [
    {
     "name": "stdout",
     "output_type": "stream",
     "text": [
      "CustomerID\n",
      "PersonID\n",
      "StoreID\n",
      "TerritoryID\n",
      "AccountNumber\n",
      "rowguid\n",
      "ModifiedDate\n"
     ]
    }
   ],
   "source": [
    "# Print alla kolumner i tabell-namnet Customer\n",
    "for col in inspector.get_columns(table_name='Customer', schema='Sales'):\n",
    "    print(col['name'])"
   ]
  },
  {
   "cell_type": "markdown",
   "id": "5c3e5f9b",
   "metadata": {},
   "source": [
    "## Query till databas"
   ]
  },
  {
   "cell_type": "code",
   "execution_count": 13,
   "id": "1b164421",
   "metadata": {},
   "outputs": [],
   "source": [
    "# .read_sql() -metod\n",
    "# sql: sql command som query utför\n",
    "# con: kopplingen till databasen\n",
    "df = pd.read_sql(sql=\"SELECT * from Sales.Customer\", con=connection)"
   ]
  },
  {
   "cell_type": "code",
   "execution_count": 14,
   "id": "f3ec4182",
   "metadata": {},
   "outputs": [
    {
     "data": {
      "text/html": [
       "<div>\n",
       "<style scoped>\n",
       "    .dataframe tbody tr th:only-of-type {\n",
       "        vertical-align: middle;\n",
       "    }\n",
       "\n",
       "    .dataframe tbody tr th {\n",
       "        vertical-align: top;\n",
       "    }\n",
       "\n",
       "    .dataframe thead th {\n",
       "        text-align: right;\n",
       "    }\n",
       "</style>\n",
       "<table border=\"1\" class=\"dataframe\">\n",
       "  <thead>\n",
       "    <tr style=\"text-align: right;\">\n",
       "      <th></th>\n",
       "      <th>CustomerID</th>\n",
       "      <th>PersonID</th>\n",
       "      <th>StoreID</th>\n",
       "      <th>TerritoryID</th>\n",
       "      <th>AccountNumber</th>\n",
       "      <th>rowguid</th>\n",
       "      <th>ModifiedDate</th>\n",
       "    </tr>\n",
       "  </thead>\n",
       "  <tbody>\n",
       "    <tr>\n",
       "      <th>0</th>\n",
       "      <td>1</td>\n",
       "      <td>NaN</td>\n",
       "      <td>934.0</td>\n",
       "      <td>1</td>\n",
       "      <td>AW00000001</td>\n",
       "      <td>3F5AE95E-B87D-4AED-95B4-C3797AFCB74F</td>\n",
       "      <td>2014-09-12 11:15:07.263</td>\n",
       "    </tr>\n",
       "    <tr>\n",
       "      <th>1</th>\n",
       "      <td>2</td>\n",
       "      <td>NaN</td>\n",
       "      <td>1028.0</td>\n",
       "      <td>1</td>\n",
       "      <td>AW00000002</td>\n",
       "      <td>E552F657-A9AF-4A7D-A645-C429D6E02491</td>\n",
       "      <td>2014-09-12 11:15:07.263</td>\n",
       "    </tr>\n",
       "    <tr>\n",
       "      <th>2</th>\n",
       "      <td>3</td>\n",
       "      <td>NaN</td>\n",
       "      <td>642.0</td>\n",
       "      <td>4</td>\n",
       "      <td>AW00000003</td>\n",
       "      <td>130774B1-DB21-4EF3-98C8-C104BCD6ED6D</td>\n",
       "      <td>2014-09-12 11:15:07.263</td>\n",
       "    </tr>\n",
       "    <tr>\n",
       "      <th>3</th>\n",
       "      <td>4</td>\n",
       "      <td>NaN</td>\n",
       "      <td>932.0</td>\n",
       "      <td>4</td>\n",
       "      <td>AW00000004</td>\n",
       "      <td>FF862851-1DAA-4044-BE7C-3E85583C054D</td>\n",
       "      <td>2014-09-12 11:15:07.263</td>\n",
       "    </tr>\n",
       "    <tr>\n",
       "      <th>4</th>\n",
       "      <td>5</td>\n",
       "      <td>NaN</td>\n",
       "      <td>1026.0</td>\n",
       "      <td>4</td>\n",
       "      <td>AW00000005</td>\n",
       "      <td>83905BDC-6F5E-4F71-B162-C98DA069F38A</td>\n",
       "      <td>2014-09-12 11:15:07.263</td>\n",
       "    </tr>\n",
       "    <tr>\n",
       "      <th>5</th>\n",
       "      <td>6</td>\n",
       "      <td>NaN</td>\n",
       "      <td>644.0</td>\n",
       "      <td>4</td>\n",
       "      <td>AW00000006</td>\n",
       "      <td>1A92DF88-BFA2-467D-BD54-FCB9E647FDD7</td>\n",
       "      <td>2014-09-12 11:15:07.263</td>\n",
       "    </tr>\n",
       "    <tr>\n",
       "      <th>6</th>\n",
       "      <td>7</td>\n",
       "      <td>NaN</td>\n",
       "      <td>930.0</td>\n",
       "      <td>1</td>\n",
       "      <td>AW00000007</td>\n",
       "      <td>03E9273E-B193-448E-9823-FE0C44AEED78</td>\n",
       "      <td>2014-09-12 11:15:07.263</td>\n",
       "    </tr>\n",
       "    <tr>\n",
       "      <th>7</th>\n",
       "      <td>8</td>\n",
       "      <td>NaN</td>\n",
       "      <td>1024.0</td>\n",
       "      <td>5</td>\n",
       "      <td>AW00000008</td>\n",
       "      <td>801368B1-4323-4BFA-8BEA-5B5B1E4BD4A0</td>\n",
       "      <td>2014-09-12 11:15:07.263</td>\n",
       "    </tr>\n",
       "    <tr>\n",
       "      <th>8</th>\n",
       "      <td>9</td>\n",
       "      <td>NaN</td>\n",
       "      <td>620.0</td>\n",
       "      <td>5</td>\n",
       "      <td>AW00000009</td>\n",
       "      <td>B900BB7F-23C3-481D-80DA-C49A5BD6F772</td>\n",
       "      <td>2014-09-12 11:15:07.263</td>\n",
       "    </tr>\n",
       "    <tr>\n",
       "      <th>9</th>\n",
       "      <td>10</td>\n",
       "      <td>NaN</td>\n",
       "      <td>928.0</td>\n",
       "      <td>6</td>\n",
       "      <td>AW00000010</td>\n",
       "      <td>CDB6698D-2FF1-4FBA-8F22-60AD1D11DABD</td>\n",
       "      <td>2014-09-12 11:15:07.263</td>\n",
       "    </tr>\n",
       "    <tr>\n",
       "      <th>10</th>\n",
       "      <td>11</td>\n",
       "      <td>NaN</td>\n",
       "      <td>1022.0</td>\n",
       "      <td>6</td>\n",
       "      <td>AW00000011</td>\n",
       "      <td>750F3495-59C4-48A0-80E1-E37EC60E77D9</td>\n",
       "      <td>2014-09-12 11:15:07.263</td>\n",
       "    </tr>\n",
       "    <tr>\n",
       "      <th>11</th>\n",
       "      <td>12</td>\n",
       "      <td>NaN</td>\n",
       "      <td>622.0</td>\n",
       "      <td>6</td>\n",
       "      <td>AW00000012</td>\n",
       "      <td>947BCAF1-1F32-44F3-B9C3-0011F95FBE54</td>\n",
       "      <td>2014-09-12 11:15:07.263</td>\n",
       "    </tr>\n",
       "  </tbody>\n",
       "</table>\n",
       "</div>"
      ],
      "text/plain": [
       "    CustomerID  PersonID  StoreID  TerritoryID AccountNumber  \\\n",
       "0            1       NaN    934.0            1    AW00000001   \n",
       "1            2       NaN   1028.0            1    AW00000002   \n",
       "2            3       NaN    642.0            4    AW00000003   \n",
       "3            4       NaN    932.0            4    AW00000004   \n",
       "4            5       NaN   1026.0            4    AW00000005   \n",
       "5            6       NaN    644.0            4    AW00000006   \n",
       "6            7       NaN    930.0            1    AW00000007   \n",
       "7            8       NaN   1024.0            5    AW00000008   \n",
       "8            9       NaN    620.0            5    AW00000009   \n",
       "9           10       NaN    928.0            6    AW00000010   \n",
       "10          11       NaN   1022.0            6    AW00000011   \n",
       "11          12       NaN    622.0            6    AW00000012   \n",
       "\n",
       "                                 rowguid            ModifiedDate  \n",
       "0   3F5AE95E-B87D-4AED-95B4-C3797AFCB74F 2014-09-12 11:15:07.263  \n",
       "1   E552F657-A9AF-4A7D-A645-C429D6E02491 2014-09-12 11:15:07.263  \n",
       "2   130774B1-DB21-4EF3-98C8-C104BCD6ED6D 2014-09-12 11:15:07.263  \n",
       "3   FF862851-1DAA-4044-BE7C-3E85583C054D 2014-09-12 11:15:07.263  \n",
       "4   83905BDC-6F5E-4F71-B162-C98DA069F38A 2014-09-12 11:15:07.263  \n",
       "5   1A92DF88-BFA2-467D-BD54-FCB9E647FDD7 2014-09-12 11:15:07.263  \n",
       "6   03E9273E-B193-448E-9823-FE0C44AEED78 2014-09-12 11:15:07.263  \n",
       "7   801368B1-4323-4BFA-8BEA-5B5B1E4BD4A0 2014-09-12 11:15:07.263  \n",
       "8   B900BB7F-23C3-481D-80DA-C49A5BD6F772 2014-09-12 11:15:07.263  \n",
       "9   CDB6698D-2FF1-4FBA-8F22-60AD1D11DABD 2014-09-12 11:15:07.263  \n",
       "10  750F3495-59C4-48A0-80E1-E37EC60E77D9 2014-09-12 11:15:07.263  \n",
       "11  947BCAF1-1F32-44F3-B9C3-0011F95FBE54 2014-09-12 11:15:07.263  "
      ]
     },
     "execution_count": 14,
     "metadata": {},
     "output_type": "execute_result"
    }
   ],
   "source": [
    "df.head(12)"
   ]
  },
  {
   "cell_type": "code",
   "execution_count": 15,
   "id": "50d6894e",
   "metadata": {},
   "outputs": [],
   "source": [
    "multijoin_sql =\"\"\"\n",
    "SELECT\n",
    "    c.CustomerID,\n",
    "    c.StoreID,\n",
    "    c.AccountNumber,\n",
    "    soh.SalesOrderID,\n",
    "    sod.ProductID\n",
    "FROM Sales.Customer AS c inner join Sales.SalesOrderHeader AS soh\n",
    "    ON c.CustomerID = soh.CustomerID\n",
    "INNER JOIN Sales.SalesOrderDetail AS sod\n",
    "    ON soh.SalesOrderID = sod.SalesOrderID\n",
    "\"\"\"\n",
    "join_df = pd.read_sql(sql=multijoin_sql, con=connection)"
   ]
  },
  {
   "cell_type": "code",
   "execution_count": 16,
   "id": "36697316",
   "metadata": {},
   "outputs": [
    {
     "data": {
      "text/html": [
       "<div>\n",
       "<style scoped>\n",
       "    .dataframe tbody tr th:only-of-type {\n",
       "        vertical-align: middle;\n",
       "    }\n",
       "\n",
       "    .dataframe tbody tr th {\n",
       "        vertical-align: top;\n",
       "    }\n",
       "\n",
       "    .dataframe thead th {\n",
       "        text-align: right;\n",
       "    }\n",
       "</style>\n",
       "<table border=\"1\" class=\"dataframe\">\n",
       "  <thead>\n",
       "    <tr style=\"text-align: right;\">\n",
       "      <th></th>\n",
       "      <th>CustomerID</th>\n",
       "      <th>StoreID</th>\n",
       "      <th>AccountNumber</th>\n",
       "      <th>SalesOrderID</th>\n",
       "      <th>ProductID</th>\n",
       "    </tr>\n",
       "  </thead>\n",
       "  <tbody>\n",
       "    <tr>\n",
       "      <th>0</th>\n",
       "      <td>29580</td>\n",
       "      <td>518.0</td>\n",
       "      <td>AW00029580</td>\n",
       "      <td>43665</td>\n",
       "      <td>707</td>\n",
       "    </tr>\n",
       "    <tr>\n",
       "      <th>1</th>\n",
       "      <td>29614</td>\n",
       "      <td>592.0</td>\n",
       "      <td>AW00029614</td>\n",
       "      <td>43668</td>\n",
       "      <td>707</td>\n",
       "    </tr>\n",
       "    <tr>\n",
       "      <th>2</th>\n",
       "      <td>29844</td>\n",
       "      <td>1086.0</td>\n",
       "      <td>AW00029844</td>\n",
       "      <td>43673</td>\n",
       "      <td>707</td>\n",
       "    </tr>\n",
       "    <tr>\n",
       "      <th>3</th>\n",
       "      <td>29824</td>\n",
       "      <td>1044.0</td>\n",
       "      <td>AW00029824</td>\n",
       "      <td>43677</td>\n",
       "      <td>707</td>\n",
       "    </tr>\n",
       "    <tr>\n",
       "      <th>4</th>\n",
       "      <td>29889</td>\n",
       "      <td>1184.0</td>\n",
       "      <td>AW00029889</td>\n",
       "      <td>43678</td>\n",
       "      <td>707</td>\n",
       "    </tr>\n",
       "  </tbody>\n",
       "</table>\n",
       "</div>"
      ],
      "text/plain": [
       "   CustomerID  StoreID AccountNumber  SalesOrderID  ProductID\n",
       "0       29580    518.0    AW00029580         43665        707\n",
       "1       29614    592.0    AW00029614         43668        707\n",
       "2       29844   1086.0    AW00029844         43673        707\n",
       "3       29824   1044.0    AW00029824         43677        707\n",
       "4       29889   1184.0    AW00029889         43678        707"
      ]
     },
     "execution_count": 16,
     "metadata": {},
     "output_type": "execute_result"
    }
   ],
   "source": [
    "join_df.head()"
   ]
  },
  {
   "cell_type": "markdown",
   "id": "116fe4eb",
   "metadata": {},
   "source": [
    "# En statistisk analys "
   ]
  },
  {
   "cell_type": "code",
   "execution_count": 56,
   "id": "6d9c51fc",
   "metadata": {},
   "outputs": [
    {
     "data": {
      "text/html": [
       "<div>\n",
       "<style scoped>\n",
       "    .dataframe tbody tr th:only-of-type {\n",
       "        vertical-align: middle;\n",
       "    }\n",
       "\n",
       "    .dataframe tbody tr th {\n",
       "        vertical-align: top;\n",
       "    }\n",
       "\n",
       "    .dataframe thead th {\n",
       "        text-align: right;\n",
       "    }\n",
       "</style>\n",
       "<table border=\"1\" class=\"dataframe\">\n",
       "  <thead>\n",
       "    <tr style=\"text-align: right;\">\n",
       "      <th></th>\n",
       "      <th>Name</th>\n",
       "      <th>Total Orders</th>\n",
       "    </tr>\n",
       "  </thead>\n",
       "  <tbody>\n",
       "    <tr>\n",
       "      <th>0</th>\n",
       "      <td>AWC Logo Cap</td>\n",
       "      <td>8311</td>\n",
       "    </tr>\n",
       "    <tr>\n",
       "      <th>1</th>\n",
       "      <td>Water Bottle - 30 oz.</td>\n",
       "      <td>6815</td>\n",
       "    </tr>\n",
       "    <tr>\n",
       "      <th>2</th>\n",
       "      <td>Sport-100 Helmet, Blue</td>\n",
       "      <td>6743</td>\n",
       "    </tr>\n",
       "    <tr>\n",
       "      <th>3</th>\n",
       "      <td>Long-Sleeve Logo Jersey, L</td>\n",
       "      <td>6592</td>\n",
       "    </tr>\n",
       "    <tr>\n",
       "      <th>4</th>\n",
       "      <td>Sport-100 Helmet, Black</td>\n",
       "      <td>6532</td>\n",
       "    </tr>\n",
       "  </tbody>\n",
       "</table>\n",
       "</div>"
      ],
      "text/plain": [
       "                         Name  Total Orders\n",
       "0                AWC Logo Cap          8311\n",
       "1       Water Bottle - 30 oz.          6815\n",
       "2      Sport-100 Helmet, Blue          6743\n",
       "3  Long-Sleeve Logo Jersey, L          6592\n",
       "4     Sport-100 Helmet, Black          6532"
      ]
     },
     "execution_count": 56,
     "metadata": {},
     "output_type": "execute_result"
    },
    {
     "data": {
      "image/png": "[encoded data removed]",
      "text/plain": [
       "<Figure size 1000x500 with 1 Axes>"
      ]
     },
     "metadata": {},
     "output_type": "display_data"
    }
   ],
   "source": [
    "# Jag vi kunde titta på vilka produkter som säljer mest, via Product och SalesOrderDetail-tabellerna, \n",
    "# samt nyckeln ProductID, och det är en keps. \n",
    "\n",
    "Sales_Most_Sold_sql =\"\"\"\n",
    "SELECT TOP 10 p.Name, SUM(sod.OrderQty) AS [Total Orders]\n",
    "FROM Production.Product p JOIN Sales.SalesOrderDetail sod \n",
    "ON p.ProductID = sod.ProductID GROUP BY Name\n",
    "ORDER BY [Total Orders] DESC;\n",
    "\n",
    "\"\"\"\n",
    "# TOP och limit fungerade inte, fick använda slice nedan.\n",
    "\n",
    "Sales_Most_Sold_sql_df = pd.read_sql(sql=Sales_Most_Sold_sql, con=connection)\n",
    "Sales_Most_Sold_sql_df.head(5)\n",
    "\n",
    "product_most_sold = Sales_Most_Sold_sql_df.iloc[:5, 1]\n",
    "product_most_sold_name = Sales_Most_Sold_sql_df.iloc[:5, 0]\n",
    "x1 = product_most_sold.to_list()\n",
    "x2 = product_most_sold_name.to_list()\n",
    "fig, axs = plt.subplots(figsize = (10, 5))\n",
    "\n",
    "axs.bar(x2, x1)\n",
    "axs.set_title(\"Mest sålda produkter.\")\n",
    "axs.set_xlabel(\"Produkt namn\")\n",
    "axs.set_ylabel(\"Antal sålda\")\n",
    "plt.xticks(x2, fontsize = 8);\n",
    "\n",
    "Sales_Most_Sold_sql_df.head(5)"
   ]
  },
  {
   "cell_type": "code",
   "execution_count": 54,
   "id": "8ea516c8",
   "metadata": {},
   "outputs": [
    {
     "data": {
      "text/html": [
       "<div>\n",
       "<style scoped>\n",
       "    .dataframe tbody tr th:only-of-type {\n",
       "        vertical-align: middle;\n",
       "    }\n",
       "\n",
       "    .dataframe tbody tr th {\n",
       "        vertical-align: top;\n",
       "    }\n",
       "\n",
       "    .dataframe thead th {\n",
       "        text-align: right;\n",
       "    }\n",
       "</style>\n",
       "<table border=\"1\" class=\"dataframe\">\n",
       "  <thead>\n",
       "    <tr style=\"text-align: right;\">\n",
       "      <th></th>\n",
       "      <th>Name</th>\n",
       "      <th>Total Orders</th>\n",
       "      <th>Total Price</th>\n",
       "      <th>Total Cost</th>\n",
       "      <th>Total Earnings</th>\n",
       "    </tr>\n",
       "  </thead>\n",
       "  <tbody>\n",
       "    <tr>\n",
       "      <th>0</th>\n",
       "      <td>Mountain-200 Black, 38</td>\n",
       "      <td>1470</td>\n",
       "      <td>2.216246e+06</td>\n",
       "      <td>1.840413e+06</td>\n",
       "      <td>375833.0914</td>\n",
       "    </tr>\n",
       "    <tr>\n",
       "      <th>1</th>\n",
       "      <td>Mountain-200 Black, 46</td>\n",
       "      <td>1036</td>\n",
       "      <td>1.666953e+06</td>\n",
       "      <td>1.297053e+06</td>\n",
       "      <td>369900.2375</td>\n",
       "    </tr>\n",
       "    <tr>\n",
       "      <th>2</th>\n",
       "      <td>Mountain-200 Black, 42</td>\n",
       "      <td>1262</td>\n",
       "      <td>1.934267e+06</td>\n",
       "      <td>1.580000e+06</td>\n",
       "      <td>354266.3394</td>\n",
       "    </tr>\n",
       "    <tr>\n",
       "      <th>3</th>\n",
       "      <td>Mountain-200 Silver, 46</td>\n",
       "      <td>1033</td>\n",
       "      <td>1.658577e+06</td>\n",
       "      <td>1.307385e+06</td>\n",
       "      <td>351192.4773</td>\n",
       "    </tr>\n",
       "    <tr>\n",
       "      <th>4</th>\n",
       "      <td>Mountain-200 Silver, 38</td>\n",
       "      <td>1164</td>\n",
       "      <td>1.817073e+06</td>\n",
       "      <td>1.473181e+06</td>\n",
       "      <td>343891.4132</td>\n",
       "    </tr>\n",
       "  </tbody>\n",
       "</table>\n",
       "</div>"
      ],
      "text/plain": [
       "                      Name  Total Orders   Total Price    Total Cost  \\\n",
       "0   Mountain-200 Black, 38          1470  2.216246e+06  1.840413e+06   \n",
       "1   Mountain-200 Black, 46          1036  1.666953e+06  1.297053e+06   \n",
       "2   Mountain-200 Black, 42          1262  1.934267e+06  1.580000e+06   \n",
       "3  Mountain-200 Silver, 46          1033  1.658577e+06  1.307385e+06   \n",
       "4  Mountain-200 Silver, 38          1164  1.817073e+06  1.473181e+06   \n",
       "\n",
       "   Total Earnings  \n",
       "0     375833.0914  \n",
       "1     369900.2375  \n",
       "2     354266.3394  \n",
       "3     351192.4773  \n",
       "4     343891.4132  "
      ]
     },
     "execution_count": 54,
     "metadata": {},
     "output_type": "execute_result"
    },
    {
     "data": {
      "image/png": "[encoded data removed]",
      "text/plain": [
       "<Figure size 1000x500 with 1 Axes>"
      ]
     },
     "metadata": {},
     "output_type": "display_data"
    }
   ],
   "source": [
    "# I min statistiska analys tänkte jag titta vidare på de mest sålda varorna, \n",
    "# och jämföra med produktionskostnaderna för att se vilken vara som faktiskt är mest lönsam. \n",
    "# Jag ska även göra ett konfidensintervall (95%) över hur mycket den mest inkomstbringande varan säljer på en månad. . \n",
    "\n",
    "Sales_Total_Earnings_sql =\"\"\"\n",
    "SELECT TOP 15 p.Name, SUM(sod.OrderQty) AS [Total Orders], \n",
    "\tsum(sod.UnitPrice * sod.OrderQty) AS [Total Price],\n",
    "\tsum(p.StandardCost * sod.OrderQty) AS [Total Cost],\n",
    "\tsum(sod.UnitPrice * sod.OrderQty - p.StandardCost * sod.OrderQty) AS [Total Earnings]\n",
    "\tFROM Production.Product p JOIN Sales.SalesOrderDetail sod \n",
    "\tON p.ProductID = sod.ProductID \n",
    "\tJOIN Sales.SalesOrderHeader soh on soh.SalesOrderID = sod.SalesOrderID  \n",
    "\tWHERE soH.OrderDate >= '2013-01-01' AND soh.OrderDate < '2014-01-01'\n",
    "\tGROUP BY Name ORDER BY [Total Earnings] DESC;\n",
    "\"\"\"\n",
    "# TOP och limit fungerade inte, fick använda slice nedan.\n",
    "\n",
    "Sales_Total_Earnings_sql_df = pd.read_sql(sql=Sales_Total_Earnings_sql, con=connection)\n",
    "\n",
    "product_total_earnings = Sales_Total_Earnings_sql_df.iloc[:5, 4]\n",
    "product_name = Sales_Total_Earnings_sql_df.iloc[:5, 0]\n",
    "x1 = product_total_earnings.to_list()\n",
    "x2 = product_name.to_list()\n",
    "fig, axs = plt.subplots(figsize = (10, 5))\n",
    "\n",
    "axs.bar(x2, x1)\n",
    "axs.set_title(\"Total vinst för de produkter som gav mest total inkomst 2013.\")\n",
    "axs.set_xlabel(\"Product Name\")\n",
    "axs.set_ylabel(\"Total Earnings\")\n",
    "plt.xticks(x2, fontsize = 8);\n",
    "\n",
    "Sales_Total_Earnings_sql_df.head(5)\n",
    "# I min analys fann jag även produkter som gav negativ total earning, genom att ändra till ASC.\n",
    "# Mer om det står i rapporten."
   ]
  },
  {
   "cell_type": "code",
   "execution_count": 55,
   "id": "c4e2900d",
   "metadata": {},
   "outputs": [
    {
     "name": "stdout",
     "output_type": "stream",
     "text": [
      "standard deviation: 15290.765933667752\n",
      "\n",
      "t value: 2.200985160082949\n",
      "\n",
      "mean: 31319.42428333334\n",
      "\n",
      "Medelvinsten per månad ligger mellan 21604.135113051223 och 41034.71345361546 med 95% konfidensgrad.\n",
      "\n",
      "                      Name  Quantity  Total Earnings  MonthNum\n",
      "0   Mountain-200 Black, 38        93      15937.4814         1\n",
      "1   Mountain-200 Black, 38       100       9222.7102         2\n",
      "2   Mountain-200 Black, 38       141      12397.4883         3\n",
      "3   Mountain-200 Black, 38       118      16194.0607         4\n",
      "4   Mountain-200 Black, 38        86      26881.5930         5\n",
      "5   Mountain-200 Black, 38       181      47642.6897         6\n",
      "6   Mountain-200 Black, 38       158      31938.4035         7\n",
      "7   Mountain-200 Black, 38        89      36830.0183         8\n",
      "8   Mountain-200 Black, 38       151      33679.6032         9\n",
      "9   Mountain-200 Black, 38       134      42455.5898        10\n",
      "10  Mountain-200 Black, 38        89      48763.9663        11\n",
      "11  Mountain-200 Black, 38       130      53889.4870        12\n"
     ]
    },
    {
     "data": {
      "image/png": "[encoded data removed]",
      "text/plain": [
       "<Figure size 1000x500 with 1 Axes>"
      ]
     },
     "metadata": {},
     "output_type": "display_data"
    }
   ],
   "source": [
    "# Här följer en analys av hur den mest inkomstbringande varan säljer månadsvis över samma år, i total inkomst. \n",
    "\n",
    "Sales_per_month_sql =\"\"\"\n",
    "SELECT p.Name, SUM(sod.OrderQty) AS Quantity, \n",
    "sum(sod.UnitPrice * sod.OrderQty - p.StandardCost * sod.OrderQty) AS [Total Earnings], \n",
    "\tMONTH(soh.[OrderDate]) AS MonthNum \n",
    "\tFROM Production.Product p JOIN Sales.SalesOrderDetail sod ON\n",
    "\tp.ProductID = sod.ProductID JOIN [Sales].[SalesOrderHeader] soh \n",
    "\tON soh.SalesOrderID = sod.SalesOrderID\n",
    "\tWHERE p.Name LIKE 'Mountain-200 Black, 38' AND \n",
    "\tsoH.OrderDate >= '2013-01-01' AND soh.OrderDate < '2014-01-01'\n",
    "\tGROUP BY p.Name, MONTH(soh.[OrderDate]);\n",
    "\n",
    "\"\"\"\n",
    "Sales_per_month_sql_df = pd.read_sql(sql=Sales_per_month_sql, con=connection)\n",
    "\n",
    "# Liten sample (12), även om varje sample innehåller fler samples i form av OrderQty\n",
    "# Jag använder t-värde till konfidensintervallet.\n",
    "# Det verkar inte vara något speciellt extrem-värde, vilket är bra.\n",
    "\n",
    "import statistics\n",
    "# Använder iloc för att spara ner kolumn på plats 2.\n",
    "total_earnings_data = Sales_per_month_sql_df.iloc[:, 2]\n",
    "\n",
    "# Nedan räknar jag ut standardavvikelsen med stdev\n",
    "sample_std = statistics.stdev(total_earnings_data)\n",
    "print(\"standard deviation:\", sample_std)\n",
    "print()\n",
    "\n",
    "import scipy.stats\n",
    "# t-värdet fås med konfidensgrad q 95% (\"två-svansat\"), 11 frihetsgrader\n",
    "t_value = scipy.stats.t.ppf(q=1-.05/2,df=11)\n",
    "print(\"t value:\", t_value)\n",
    "print()\n",
    "\n",
    "# Söker medelvärdet\n",
    "sample_mean = np.mean(total_earnings_data)\n",
    "print(\"mean:\", sample_mean)\n",
    "print()\n",
    "\n",
    "# Uträkning av nedre och övre gräns, med formeln för t-värde.\n",
    "import math\n",
    "ci_lower = sample_mean - t_value * sample_std / math.sqrt(12)\n",
    "ci_upper = sample_mean + t_value * sample_std / math.sqrt(12)\n",
    "\n",
    "# Resultaten.\n",
    "print(\"Medelvinsten per månad ligger mellan\", ci_lower, \"och\", ci_upper, \"med 95% konfidensgrad.\")\n",
    "print()\n",
    "\n",
    "print(Sales_per_month_sql_df.head(12))\n",
    "\n",
    "import matplotlib.pyplot as plt\n",
    "month_data = Sales_per_month_sql_df.iloc[:, 3]\n",
    "x1 = total_earnings_data.to_list()\n",
    "x2 = month_data.to_list()\n",
    "fig, axs = plt.subplots(figsize = (10, 5))\n",
    "\n",
    "axs.bar(x2, x1)\n",
    "axs.set_title(\"Total vinst för Mountain-200 Black, 38 per månad\")\n",
    "axs.set_xlabel(\"Month number\")\n",
    "axs.set_ylabel(\"Total Earnings\")\n",
    "plt.xticks(x2);\n",
    "\n",
    "\n",
    "# Det verkar som att försäljningen ökar, och därför kanske det inte går att använda resultatet för att förutspå framtiden.\n",
    "# Kanske att det hade gått att titta på någon medelökning.\n",
    "# I analysen ser jag något annat intressant, skillnaden mellan quantity vs total earnings, mer om det finns i rapporten."
   ]
  },
  {
   "cell_type": "code",
   "execution_count": null,
   "id": "b6bbe179",
   "metadata": {},
   "outputs": [],
   "source": []
  }
 ],
 "metadata": {
  "kernelspec": {
   "display_name": "Python 3 (ipykernel)",
   "language": "python",
   "name": "python3"
  },
  "language_info": {
   "codemirror_mode": {
    "name": "ipython",
    "version": 3
   },
   "file_extension": ".py",
   "mimetype": "text/x-python",
   "name": "python",
   "nbconvert_exporter": "python",
   "pygments_lexer": "ipython3",
   "version": "3.11.3"
  }
 },
 "nbformat": 4,
 "nbformat_minor": 5
}
