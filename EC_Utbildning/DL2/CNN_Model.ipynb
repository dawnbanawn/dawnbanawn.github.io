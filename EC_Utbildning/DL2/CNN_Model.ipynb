{
 "cells": [
  {
   "cell_type": "code",
   "execution_count": 1,
   "id": "4c2156e4-33fb-49cb-a9f7-db746f9682a2",
   "metadata": {},
   "outputs": [],
   "source": [
    "import os\n",
    "import pandas as pd\n",
    "import numpy as np\n",
    "import matplotlib.pyplot as plt\n",
    "\n",
    "from keras.optimizers import Adam,SGD,RMSprop\n",
    "from keras.models import Model,Sequential\n",
    "from keras.layers import Dense,Input,Dropout,GlobalAveragePooling2D,Flatten,Conv2D,BatchNormalization,Activation,MaxPooling2D"
   ]
  },
  {
   "cell_type": "code",
   "execution_count": 2,
   "id": "9cab1349-61f5-4293-be7e-67393bb9062a",
   "metadata": {},
   "outputs": [],
   "source": [
    "data_dir = \".\\\\images\"\n",
    "train_path = data_dir+\"\\\\train\\\\\"\n",
    "validation_path = data_dir+\"\\\\validation\\\\\"\n",
    "# Keeping the current image size\n",
    "picture_size = 48"
   ]
  },
  {
   "cell_type": "code",
   "execution_count": 4,
   "id": "0b18b024-b541-4a47-a496-69050d761cb7",
   "metadata": {},
   "outputs": [
    {
     "data": {
      "text/plain": [
       "['angry', 'disgust', 'fear', 'happy', 'neutral', 'sad', 'surprise']"
      ]
     },
     "execution_count": 4,
     "metadata": {},
     "output_type": "execute_result"
    }
   ],
   "source": [
    "os.listdir(validation_path)"
   ]
  },
  {
   "cell_type": "code",
   "execution_count": 5,
   "id": "97f75b72-04aa-4e35-915a-c8b5c325b069",
   "metadata": {},
   "outputs": [
    {
     "data": {
      "text/plain": [
       "'10052.jpg'"
      ]
     },
     "execution_count": 5,
     "metadata": {},
     "output_type": "execute_result"
    }
   ],
   "source": [
    "os.listdir(validation_path+'angry')[0]"
   ]
  },
  {
   "cell_type": "code",
   "execution_count": 6,
   "id": "69691d91-e250-47b4-b5cb-6b4a635d7544",
   "metadata": {},
   "outputs": [],
   "source": [
    "angry_person = validation_path+'angry\\\\'+'10052.jpg'"
   ]
  },
  {
   "cell_type": "code",
   "execution_count": 7,
   "id": "91fe8496-ef6a-412e-8d81-5c8e87e538ae",
   "metadata": {},
   "outputs": [
    {
     "data": {
      "text/plain": [
       "<matplotlib.image.AxesImage at 0x255d693e1d0>"
      ]
     },
     "execution_count": 7,
     "metadata": {},
     "output_type": "execute_result"
    },
    {
     "data": {
      "image/png": "[encoded data removed]",
      "text/plain": [
       "<Figure size 640x480 with 1 Axes>"
      ]
     },
     "metadata": {},
     "output_type": "display_data"
    }
   ],
   "source": [
    "from matplotlib.image import imread\n",
    "image = imread(angry_person)\n",
    "plt.imshow(image)"
   ]
  },
  {
   "cell_type": "code",
   "execution_count": 8,
   "id": "a50bbe72-2180-4fc1-bb4c-ea9df067bbc9",
   "metadata": {},
   "outputs": [
    {
     "data": {
      "text/plain": [
       "227"
      ]
     },
     "execution_count": 8,
     "metadata": {},
     "output_type": "execute_result"
    }
   ],
   "source": [
    "# Checking the max value of a pixel \n",
    "image.max()"
   ]
  },
  {
   "cell_type": "code",
   "execution_count": 9,
   "id": "5d04929a-79db-4522-9db4-f97ae594e0e5",
   "metadata": {},
   "outputs": [
    {
     "data": {
      "text/plain": [
       "(48, 48)"
      ]
     },
     "execution_count": 9,
     "metadata": {},
     "output_type": "execute_result"
    }
   ],
   "source": [
    "image.shape"
   ]
  },
  {
   "cell_type": "markdown",
   "id": "cd9cd5e1-af21-42b4-b874-71e7e15a12e1",
   "metadata": {},
   "source": [
    "## Preparing the data for the model"
   ]
  },
  {
   "cell_type": "code",
   "execution_count": 3,
   "id": "cab911d7-e672-473b-a334-ab466201bf3d",
   "metadata": {},
   "outputs": [
    {
     "name": "stdout",
     "output_type": "stream",
     "text": [
      "Found 28821 images belonging to 7 classes.\n",
      "Found 7066 images belonging to 7 classes.\n"
     ]
    }
   ],
   "source": [
    "from tensorflow.keras.callbacks import EarlyStopping\n",
    "early_stop = EarlyStopping(monitor='val_loss',patience=3, restore_best_weights=True)\n",
    "\n",
    "from keras.preprocessing.image import ImageDataGenerator\n",
    "batch_size  = 128\n",
    "\n",
    "datagen_train  = ImageDataGenerator(rescale=1./255,\n",
    "                           #width_shift_range=0.1,\n",
    "                              #height_shift_range=0.1,\n",
    "                             # shear_range=0.1,\n",
    "                             #  zoom_range=0.1,\n",
    "                               horizontal_flip=True,\n",
    "                              # fill_mode='nearest',           \n",
    "                              )\n",
    "datagen_val = ImageDataGenerator(rescale=1./255,\n",
    "                          # width_shift_range=0.1,\n",
    "                             #height_shift_range=0.1,\n",
    "                             # shear_range=0.1,\n",
    "                             #  zoom_range=0.1,\n",
    "                               horizontal_flip=True,\n",
    "                             #  fill_mode='nearest',\n",
    "                               \n",
    "                              )\n",
    "\n",
    "train_set = datagen_train.flow_from_directory(data_dir+\"\\\\train\",\n",
    "                                              target_size = (picture_size,picture_size),\n",
    "                                              color_mode = \"grayscale\",\n",
    "                                              batch_size=batch_size,\n",
    "                                              class_mode='categorical',\n",
    "                                              shuffle=True)\n",
    "\n",
    "\n",
    "test_set = datagen_val.flow_from_directory(data_dir+\"\\\\validation\",\n",
    "                                              target_size = (picture_size,picture_size),\n",
    "                                              color_mode = \"grayscale\",\n",
    "                                              batch_size=batch_size,\n",
    "                                              class_mode='categorical',\n",
    "                                              shuffle=False)"
   ]
  },
  {
   "cell_type": "code",
   "execution_count": 4,
   "id": "07ab0122-469c-456e-809d-d56ac0757b27",
   "metadata": {},
   "outputs": [],
   "source": [
    "no_of_classes = 7\n",
    "\n",
    "model = Sequential()\n",
    "\n",
    "#1st CNN layer\n",
    "model.add(Conv2D(64,(3,3),padding = 'same',input_shape = (48,48,1)))\n",
    "model.add(BatchNormalization())\n",
    "model.add(Activation('relu'))\n",
    "model.add(MaxPooling2D(pool_size = (2,2)))\n",
    "model.add(Dropout(0.2))\n",
    "\n",
    "#2nd CNN layer\n",
    "model.add(Conv2D(128,(3,3),padding = 'same'))\n",
    "model.add(BatchNormalization())\n",
    "model.add(Activation('relu'))\n",
    "model.add(MaxPooling2D(pool_size = (2,2)))\n",
    "model.add(Dropout (0.2))\n",
    "\n",
    "#3rd CNN layer\n",
    "model.add(Conv2D(256,(3,3),padding = 'same'))\n",
    "model.add(BatchNormalization())\n",
    "model.add(Activation('relu'))\n",
    "model.add(MaxPooling2D(pool_size = (2,2)))\n",
    "model.add(Dropout (0.2))\n",
    "\n",
    "model.add(Flatten())\n",
    "\n",
    "#Fully connected 1st layer\n",
    "model.add(Dense(128))\n",
    "model.add(BatchNormalization())\n",
    "model.add(Activation('relu'))\n",
    "model.add(Dropout(0.2))\n",
    "\n",
    "# Fully connected layer 2nd layer\n",
    "model.add(Dense(256))\n",
    "model.add(BatchNormalization())\n",
    "model.add(Activation('relu'))\n",
    "model.add(Dropout(0.2))\n",
    "\n",
    "# Fully connected layer 2nd layer\n",
    "model.add(Dense(32))\n",
    "model.add(BatchNormalization())\n",
    "model.add(Activation('relu'))\n",
    "model.add(Dropout(0.2))\n",
    "\n",
    "model.add(Dense(no_of_classes, activation='softmax'))\n",
    "\n",
    "\n",
    "# default optimizer (0.001)\n",
    "opt = Adam(learning_rate = 0.0001)\n",
    "# Categorical crossentropy till multi classification\n",
    "model.compile(optimizer=opt,loss='categorical_crossentropy', metrics=['accuracy'])\n",
    "#model.summary()"
   ]
  },
  {
   "cell_type": "markdown",
   "id": "b93bd166-55c6-4938-8923-6af8d3366ba8",
   "metadata": {},
   "source": [
    "## Training and saving the model and history data"
   ]
  },
  {
   "cell_type": "code",
   "execution_count": 5,
   "id": "9fde64e6-0657-461d-b204-d34e6ecbd39b",
   "metadata": {},
   "outputs": [
    {
     "name": "stdout",
     "output_type": "stream",
     "text": [
      "Epoch 1/40\n",
      "226/226 [==============================] - 129s 560ms/step - loss: 2.1247 - accuracy: 0.1917 - val_loss: 1.9389 - val_accuracy: 0.1612\n",
      "Epoch 2/40\n",
      "226/226 [==============================] - 126s 558ms/step - loss: 1.9015 - accuracy: 0.2826 - val_loss: 1.8625 - val_accuracy: 0.2787\n",
      "Epoch 3/40\n",
      "226/226 [==============================] - 127s 562ms/step - loss: 1.7781 - accuracy: 0.3303 - val_loss: 1.7202 - val_accuracy: 0.3337\n",
      "Epoch 4/40\n",
      "226/226 [==============================] - 126s 559ms/step - loss: 1.6909 - accuracy: 0.3614 - val_loss: 1.6346 - val_accuracy: 0.3862\n",
      "Epoch 5/40\n",
      "226/226 [==============================] - 124s 549ms/step - loss: 1.6160 - accuracy: 0.3865 - val_loss: 1.5434 - val_accuracy: 0.4120\n",
      "Epoch 6/40\n",
      "226/226 [==============================] - 124s 550ms/step - loss: 1.5713 - accuracy: 0.4016 - val_loss: 1.5477 - val_accuracy: 0.4151\n",
      "Epoch 7/40\n",
      "226/226 [==============================] - 129s 571ms/step - loss: 1.5198 - accuracy: 0.4214 - val_loss: 1.4568 - val_accuracy: 0.4498\n",
      "Epoch 8/40\n",
      "226/226 [==============================] - 128s 565ms/step - loss: 1.4865 - accuracy: 0.4370 - val_loss: 1.4614 - val_accuracy: 0.4498\n",
      "Epoch 9/40\n",
      "226/226 [==============================] - 128s 565ms/step - loss: 1.4601 - accuracy: 0.4426 - val_loss: 1.5049 - val_accuracy: 0.4420\n",
      "Epoch 10/40\n",
      "226/226 [==============================] - 124s 550ms/step - loss: 1.4330 - accuracy: 0.4529 - val_loss: 1.3345 - val_accuracy: 0.4926\n",
      "Epoch 11/40\n",
      "226/226 [==============================] - 130s 574ms/step - loss: 1.3990 - accuracy: 0.4667 - val_loss: 1.3524 - val_accuracy: 0.4877\n",
      "Epoch 12/40\n",
      "226/226 [==============================] - 126s 555ms/step - loss: 1.3780 - accuracy: 0.4768 - val_loss: 1.2851 - val_accuracy: 0.5108\n",
      "Epoch 13/40\n",
      "226/226 [==============================] - 129s 571ms/step - loss: 1.3492 - accuracy: 0.4885 - val_loss: 1.2600 - val_accuracy: 0.5212\n",
      "Epoch 14/40\n",
      "226/226 [==============================] - 130s 575ms/step - loss: 1.3377 - accuracy: 0.4920 - val_loss: 1.2426 - val_accuracy: 0.5267\n",
      "Epoch 15/40\n",
      "226/226 [==============================] - 128s 566ms/step - loss: 1.3115 - accuracy: 0.5026 - val_loss: 1.2438 - val_accuracy: 0.5270\n",
      "Epoch 16/40\n",
      "226/226 [==============================] - 125s 553ms/step - loss: 1.2944 - accuracy: 0.5083 - val_loss: 1.2324 - val_accuracy: 0.5280\n",
      "Epoch 17/40\n",
      "226/226 [==============================] - 127s 560ms/step - loss: 1.2801 - accuracy: 0.5162 - val_loss: 1.2071 - val_accuracy: 0.5440\n",
      "Epoch 18/40\n",
      "226/226 [==============================] - 124s 547ms/step - loss: 1.2720 - accuracy: 0.5203 - val_loss: 1.2122 - val_accuracy: 0.5413\n",
      "Epoch 19/40\n",
      "226/226 [==============================] - 128s 565ms/step - loss: 1.2515 - accuracy: 0.5284 - val_loss: 1.1864 - val_accuracy: 0.5504\n",
      "Epoch 20/40\n",
      "226/226 [==============================] - 124s 547ms/step - loss: 1.2367 - accuracy: 0.5317 - val_loss: 1.1968 - val_accuracy: 0.5467\n",
      "Epoch 21/40\n",
      "226/226 [==============================] - 126s 558ms/step - loss: 1.2248 - accuracy: 0.5393 - val_loss: 1.1542 - val_accuracy: 0.5686\n",
      "Epoch 22/40\n",
      "226/226 [==============================] - 133s 591ms/step - loss: 1.2086 - accuracy: 0.5455 - val_loss: 1.2165 - val_accuracy: 0.5432\n",
      "Epoch 23/40\n",
      "226/226 [==============================] - 127s 563ms/step - loss: 1.1992 - accuracy: 0.5508 - val_loss: 1.1482 - val_accuracy: 0.5661\n",
      "Epoch 24/40\n",
      "226/226 [==============================] - 129s 570ms/step - loss: 1.1876 - accuracy: 0.5543 - val_loss: 1.1406 - val_accuracy: 0.5715\n",
      "Epoch 25/40\n",
      "226/226 [==============================] - 124s 547ms/step - loss: 1.1807 - accuracy: 0.5556 - val_loss: 1.1340 - val_accuracy: 0.5685\n",
      "Epoch 26/40\n",
      "226/226 [==============================] - 127s 560ms/step - loss: 1.1686 - accuracy: 0.5615 - val_loss: 1.1363 - val_accuracy: 0.5693\n",
      "Epoch 27/40\n",
      "226/226 [==============================] - 126s 560ms/step - loss: 1.1632 - accuracy: 0.5654 - val_loss: 1.1147 - val_accuracy: 0.5831\n",
      "Epoch 28/40\n",
      "226/226 [==============================] - 127s 562ms/step - loss: 1.1485 - accuracy: 0.5676 - val_loss: 1.1118 - val_accuracy: 0.5812\n",
      "Epoch 29/40\n",
      "226/226 [==============================] - 128s 564ms/step - loss: 1.1359 - accuracy: 0.5726 - val_loss: 1.1143 - val_accuracy: 0.5863\n",
      "Epoch 30/40\n",
      "226/226 [==============================] - 124s 550ms/step - loss: 1.1222 - accuracy: 0.5805 - val_loss: 1.1201 - val_accuracy: 0.5791\n",
      "Epoch 31/40\n",
      "226/226 [==============================] - 128s 565ms/step - loss: 1.1178 - accuracy: 0.5831 - val_loss: 1.0975 - val_accuracy: 0.5866\n",
      "Epoch 32/40\n",
      "226/226 [==============================] - 127s 560ms/step - loss: 1.1041 - accuracy: 0.5846 - val_loss: 1.1051 - val_accuracy: 0.5802\n",
      "Epoch 33/40\n",
      "226/226 [==============================] - 128s 568ms/step - loss: 1.1011 - accuracy: 0.5887 - val_loss: 1.0923 - val_accuracy: 0.5882\n",
      "Epoch 34/40\n",
      "226/226 [==============================] - 126s 558ms/step - loss: 1.0883 - accuracy: 0.5942 - val_loss: 1.0726 - val_accuracy: 0.5993\n",
      "Epoch 35/40\n",
      "226/226 [==============================] - 128s 567ms/step - loss: 1.0827 - accuracy: 0.5967 - val_loss: 1.1544 - val_accuracy: 0.5763\n",
      "Epoch 36/40\n",
      "226/226 [==============================] - 127s 560ms/step - loss: 1.0808 - accuracy: 0.5965 - val_loss: 1.0699 - val_accuracy: 0.6006\n",
      "Epoch 37/40\n",
      "226/226 [==============================] - 127s 560ms/step - loss: 1.0645 - accuracy: 0.6031 - val_loss: 1.0703 - val_accuracy: 0.6033\n",
      "Epoch 38/40\n",
      "226/226 [==============================] - 127s 563ms/step - loss: 1.0599 - accuracy: 0.6059 - val_loss: 1.0569 - val_accuracy: 0.6104\n",
      "Epoch 39/40\n",
      "226/226 [==============================] - 125s 552ms/step - loss: 1.0496 - accuracy: 0.6115 - val_loss: 1.0515 - val_accuracy: 0.6054\n",
      "Epoch 40/40\n",
      "226/226 [==============================] - 130s 574ms/step - loss: 1.0407 - accuracy: 0.6083 - val_loss: 1.0487 - val_accuracy: 0.6080\n"
     ]
    },
    {
     "name": "stderr",
     "output_type": "stream",
     "text": [
      "C:\\Users\\Schmoopie\\AppData\\Local\\Temp\\ipykernel_8760\\1769494115.py:7: UserWarning: `Model.evaluate_generator` is deprecated and will be removed in a future version. Please use `Model.evaluate`, which supports generators.\n",
      "  model.evaluate_generator(test_set)\n"
     ]
    }
   ],
   "source": [
    "from tensorflow.keras.models import load_model\n",
    "results = model.fit(train_set,epochs=40,\n",
    "                              validation_data=test_set,\n",
    "                             callbacks=[early_stop])\n",
    "\n",
    "model.save('model240530_v6_rescale.h5')\n",
    "\n",
    "losses = pd.DataFrame(results.history)\n",
    "losses.to_pickle(\"my_data_v3.pkl\")\n"
   ]
  },
  {
   "cell_type": "code",
   "execution_count": 7,
   "id": "8cdd86ae-2ce8-4853-bb3f-d9dbacdde153",
   "metadata": {},
   "outputs": [],
   "source": [
    "losses = pd.DataFrame(results.history)"
   ]
  },
  {
   "cell_type": "code",
   "execution_count": null,
   "id": "54ec9754-2cd5-4d7e-8a49-ed561135347b",
   "metadata": {},
   "outputs": [],
   "source": []
  },
  {
   "cell_type": "markdown",
   "id": "7c618b85-b8d9-4bff-8cdf-444889f4e474",
   "metadata": {},
   "source": [
    "## Evaluating the model"
   ]
  },
  {
   "cell_type": "code",
   "execution_count": 1,
   "id": "19719655-0922-424c-95fc-f294212851a6",
   "metadata": {},
   "outputs": [
    {
     "data": {
      "text/plain": [
       "<Axes: >"
      ]
     },
     "execution_count": 1,
     "metadata": {},
     "output_type": "execute_result"
    },
    {
     "data": {
      "image/png": "[encoded data removed]",
      "text/plain": [
       "<Figure size 640x480 with 1 Axes>"
      ]
     },
     "metadata": {},
     "output_type": "display_data"
    },
    {
     "data": {
      "image/png": "[encoded data removed]",
      "text/plain": [
       "<Figure size 640x480 with 1 Axes>"
      ]
     },
     "metadata": {},
     "output_type": "display_data"
    }
   ],
   "source": [
    "\n",
    "losses = pd.read_pickle(\"my_data_v3.pkl\")\n",
    "losses[['loss','val_loss']].plot()\n",
    "losses[['accuracy','val_accuracy']].plot()"
   ]
  },
  {
   "cell_type": "markdown",
   "id": "d131911a-1bcd-43b3-b3b5-b12895b37a7f",
   "metadata": {},
   "source": [
    "## När du är klar med koden skall du i slutet av skriptet besvara följande frågeställningar: "
   ]
  },
  {
   "cell_type": "code",
   "execution_count": null,
   "id": "75646126-13b8-4ccd-91d2-c862b587b52e",
   "metadata": {},
   "outputs": [],
   "source": [
    "# 1.\tUtmaningar du haft under arbetet samt hur du hanterat dem. \n",
    "\n",
    "# Googlande hjälpte att hitta rätt version av tensorflow, och andra importer som behövdes, då det inte gick att starta skriptet från youtube rakt av.\n",
    "# Efter mycket tränande märkte jag att mina modeller bara visade en \"emotion\", så jag funderade på om det är för att vissa kategorier\n",
    "# inte har så mycket data. Därför testade jag data augmentation, där man även kan använda sig av rescaling, vilket gjorde att det fungerade,\n",
    "# eftersom rescaling används till webbkamerans data i python-skriptet.\n",
    "# För mycket data augmentation gjorde att min kernel dog, så jag behöll inte allt. Detta kommer jag undersöka vidare.\n",
    "\n",
    "# 2.\tVilket betyg du anser att du skall ha och varför. \n",
    "\n",
    "# G, jag har inte hunnit göra VG-delen då jag fastnade för länge på att träna modeller som inte fungerade när jag antog att de skulle fungera. \n",
    "\n",
    "# 3.\tTips du hade ”gett till dig själv” i början av kursen nu när du slutfört den. \n",
    "\n",
    "# Testa hela processen från början till slut före du börjar förfina."
   ]
  }
 ],
 "metadata": {
  "kernelspec": {
   "display_name": "Python 3 (ipykernel)",
   "language": "python",
   "name": "python3"
  },
  "language_info": {
   "codemirror_mode": {
    "name": "ipython",
    "version": 3
   },
   "file_extension": ".py",
   "mimetype": "text/x-python",
   "name": "python",
   "nbconvert_exporter": "python",
   "pygments_lexer": "ipython3",
   "version": "3.10.13"
  }
 },
 "nbformat": 4,
 "nbformat_minor": 5
}
