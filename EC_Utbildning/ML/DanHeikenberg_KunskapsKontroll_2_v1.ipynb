{
 "cells": [
  {
   "cell_type": "code",
   "execution_count": 18,
   "id": "6e8a59f9-aa39-4b21-a3ed-706c38475306",
   "metadata": {},
   "outputs": [],
   "source": [
    "import numpy as np\n",
    "import pandas as pd\n",
    "import matplotlib.pyplot as plt\n",
    "import matplotlib as mpl\n",
    "\n",
    "from sklearn.preprocessing import StandardScaler\n",
    "from sklearn.metrics import accuracy_score\n",
    "\n",
    "from sklearn.svm import LinearSVC\n",
    "from sklearn.svm import SVC\n",
    "\n",
    "from sklearn.pipeline import Pipeline\n",
    "from sklearn.model_selection import GridSearchCV\n",
    "from sklearn.metrics import confusion_matrix, ConfusionMatrixDisplay\n",
    "\n",
    "from sklearn import svm \n",
    "from sklearn.ensemble import RandomForestClassifier \n",
    "from sklearn.model_selection import GridSearchCV,RandomizedSearchCV \n",
    "from sklearn.model_selection import train_test_split \n",
    "%matplotlib inline\n",
    "from sklearn.datasets import fetch_openml"
   ]
  },
  {
   "cell_type": "code",
   "execution_count": 19,
   "id": "04f934e0-d161-4b88-8864-02b87a51e559",
   "metadata": {},
   "outputs": [
    {
     "name": "stderr",
     "output_type": "stream",
     "text": [
      "C:\\Users\\Schmoopie\\anaconda3\\Lib\\site-packages\\sklearn\\datasets\\_openml.py:968: FutureWarning: The default value of `parser` will change from `'liac-arff'` to `'auto'` in 1.4. You can set `parser='auto'` to silence this warning. Therefore, an `ImportError` will be raised from 1.4 if the dataset is dense and pandas is not installed. Note that the pandas parser may return different data types. See the Notes Section in fetch_openml's API doc for details.\n",
      "  warn(\n"
     ]
    },
    {
     "name": "stdout",
     "output_type": "stream",
     "text": [
      "**Author**: Yann LeCun, Corinna Cortes, Christopher J.C. Burges  \n",
      "**Source**: [MNIST Website](http://yann.lecun.com/exdb/mnist/) - Date unknown  \n",
      "**Please cite**:  \n",
      "\n",
      "The MNIST database of handwritten digits with 784 features, raw data available at: http://yann.lecun.com/exdb/mnist/. It can be split in a training set of the first 60,000 examples, and a test set of 10,000 examples  \n",
      "\n",
      "It is a subset of a larger set available from NIST. The digits have been size-normalized and centered in a fixed-size image. It is a good database for people who want to try learning techniques and pattern recognition methods on real-world data while spending minimal efforts on preprocessing and formatting. The original black and white (bilevel) images from NIST were size normalized to fit in a 20x20 pixel box while preserving their aspect ratio. The resulting images contain grey levels as a result of the anti-aliasing technique used by the normalization algorithm. the images were centered in a 28x28 image by computing the center of mass of the pixels, and translating the image so as to position this point at the center of the 28x28 field.  \n",
      "\n",
      "With some classification methods (particularly template-based methods, such as SVM and K-nearest neighbors), the error rate improves when the digits are centered by bounding box rather than center of mass. If you do this kind of pre-processing, you should report it in your publications. The MNIST database was constructed from NIST's NIST originally designated SD-3 as their training set and SD-1 as their test set. However, SD-3 is much cleaner and easier to recognize than SD-1. The reason for this can be found on the fact that SD-3 was collected among Census Bureau employees, while SD-1 was collected among high-school students. Drawing sensible conclusions from learning experiments requires that the result be independent of the choice of training set and test among the complete set of samples. Therefore it was necessary to build a new database by mixing NIST's datasets.  \n",
      "\n",
      "The MNIST training set is composed of 30,000 patterns from SD-3 and 30,000 patterns from SD-1. Our test set was composed of 5,000 patterns from SD-3 and 5,000 patterns from SD-1. The 60,000 pattern training set contained examples from approximately 250 writers. We made sure that the sets of writers of the training set and test set were disjoint. SD-1 contains 58,527 digit images written by 500 different writers. In contrast to SD-3, where blocks of data from each writer appeared in sequence, the data in SD-1 is scrambled. Writer identities for SD-1 is available and we used this information to unscramble the writers. We then split SD-1 in two: characters written by the first 250 writers went into our new training set. The remaining 250 writers were placed in our test set. Thus we had two sets with nearly 30,000 examples each. The new training set was completed with enough examples from SD-3, starting at pattern # 0, to make a full set of 60,000 training patterns. Similarly, the new test set was completed with SD-3 examples starting at pattern # 35,000 to make a full set with 60,000 test patterns. Only a subset of 10,000 test images (5,000 from SD-1 and 5,000 from SD-3) is available on this site. The full 60,000 sample training set is available.\n",
      "\n",
      "Downloaded from openml.org.\n"
     ]
    }
   ],
   "source": [
    "# Fetching data\n",
    "mnist = fetch_openml('mnist_784', version = 1, cache = True, as_frame = False)\n",
    "print(mnist.DESCR)"
   ]
  },
  {
   "cell_type": "code",
   "execution_count": 20,
   "id": "b7ebb0ab-dbbd-45bd-8dcb-6c4d33550628",
   "metadata": {},
   "outputs": [],
   "source": [
    "# Separating data to X and y\n",
    "X = mnist[\"data\"]\n",
    "y = mnist[\"target\"].astype(np.uint8)"
   ]
  },
  {
   "cell_type": "markdown",
   "id": "b2d9cbb5-8fca-4772-8d36-c0add9b023fb",
   "metadata": {},
   "source": [
    "## EDA"
   ]
  },
  {
   "cell_type": "code",
   "execution_count": 7,
   "id": "89ea9bd0-ee12-4ac5-af17-52c676289c66",
   "metadata": {},
   "outputs": [
    {
     "data": {
      "text/plain": [
       "9"
      ]
     },
     "execution_count": 7,
     "metadata": {},
     "output_type": "execute_result"
    }
   ],
   "source": [
    "# Inspect index 33 of y\n",
    "y[4]"
   ]
  },
  {
   "cell_type": "code",
   "execution_count": 8,
   "id": "9098ee66-b88f-4c8e-a1dd-265e66ed57df",
   "metadata": {},
   "outputs": [
    {
     "data": {
      "text/html": [
       "<div>\n",
       "<style scoped>\n",
       "    .dataframe tbody tr th:only-of-type {\n",
       "        vertical-align: middle;\n",
       "    }\n",
       "\n",
       "    .dataframe tbody tr th {\n",
       "        vertical-align: top;\n",
       "    }\n",
       "\n",
       "    .dataframe thead th {\n",
       "        text-align: right;\n",
       "    }\n",
       "</style>\n",
       "<table border=\"1\" class=\"dataframe\">\n",
       "  <thead>\n",
       "    <tr style=\"text-align: right;\">\n",
       "      <th></th>\n",
       "      <th>0</th>\n",
       "    </tr>\n",
       "  </thead>\n",
       "  <tbody>\n",
       "    <tr>\n",
       "      <th>0</th>\n",
       "      <td>5</td>\n",
       "    </tr>\n",
       "    <tr>\n",
       "      <th>1</th>\n",
       "      <td>0</td>\n",
       "    </tr>\n",
       "    <tr>\n",
       "      <th>2</th>\n",
       "      <td>4</td>\n",
       "    </tr>\n",
       "    <tr>\n",
       "      <th>3</th>\n",
       "      <td>1</td>\n",
       "    </tr>\n",
       "    <tr>\n",
       "      <th>4</th>\n",
       "      <td>9</td>\n",
       "    </tr>\n",
       "  </tbody>\n",
       "</table>\n",
       "</div>"
      ],
      "text/plain": [
       "   0\n",
       "0  5\n",
       "1  0\n",
       "2  4\n",
       "3  1\n",
       "4  9"
      ]
     },
     "execution_count": 8,
     "metadata": {},
     "output_type": "execute_result"
    }
   ],
   "source": [
    "pd.DataFrame(y).head()"
   ]
  },
  {
   "cell_type": "code",
   "execution_count": 9,
   "id": "0726970c-909e-461f-a42b-584a37332bec",
   "metadata": {},
   "outputs": [
    {
     "name": "stdout",
     "output_type": "stream",
     "text": [
      "9\n"
     ]
    },
    {
     "data": {
      "image/png": "[encoded data removed]",
      "text/plain": [
       "<Figure size 700x700 with 1 Axes>"
      ]
     },
     "metadata": {},
     "output_type": "display_data"
    }
   ],
   "source": [
    "# Inspect what index 33 of y will look like in a plot\n",
    "\n",
    "plt.figure(figsize=(7,7))\n",
    "digit=4\n",
    "digit_image = X[digit].reshape(28, 28)\n",
    "plt.imshow(digit_image, cmap=plt.cm.gray)\n",
    "print(y[digit])"
   ]
  },
  {
   "cell_type": "markdown",
   "id": "3542254a-536c-4140-b7cb-b92ad7bdc3d9",
   "metadata": {},
   "source": [
    "## Prepare data to train/test"
   ]
  },
  {
   "cell_type": "code",
   "execution_count": 21,
   "id": "1d4fa07c-f7e9-4682-8fb3-b2ecbde2de21",
   "metadata": {},
   "outputs": [],
   "source": [
    "# Portion a part of the whole set due to the whole dataset freezing this PC.\n",
    "\n",
    "X_train = X[:10000]\n",
    "y_train = y[:10000]\n",
    "X_val = X[10000:12000]\n",
    "y_val = y[10000:12000]\n",
    "X_test = X[12000:14000]\n",
    "y_test = y[12000:14000]"
   ]
  },
  {
   "cell_type": "code",
   "execution_count": 22,
   "id": "42e99f64-0b84-4319-ae26-41c63194c411",
   "metadata": {},
   "outputs": [],
   "source": [
    "# Standardising data för SVM model\n",
    "scaler = StandardScaler()\n",
    "X_train_scaled = scaler.fit_transform(X_train)\n",
    "X_val_scaled = scaler.transform(X_val)\n",
    "X_test_scaled = scaler.transform(X_test)"
   ]
  },
  {
   "cell_type": "markdown",
   "id": "ec05e560-3bc9-4aaa-a293-3ff5307a93f7",
   "metadata": {},
   "source": [
    "## Training of models"
   ]
  },
  {
   "cell_type": "code",
   "execution_count": 22,
   "id": "61a71098-610c-440a-a4e7-834afe055e06",
   "metadata": {},
   "outputs": [
    {
     "data": {
      "text/plain": [
       "0.912"
      ]
     },
     "execution_count": 22,
     "metadata": {},
     "output_type": "execute_result"
    }
   ],
   "source": [
    "# training of a SVC linear model the train set \n",
    "model_01 = svm.SVC(kernel='linear', C=10, random_state = 0)\n",
    "model_01.fit(X_train_scaled, y_train) \n",
    "\n",
    "# Predict on validation set\n",
    "y_pred_01 = model_01.predict(X_val_scaled)\n",
    "# print score\n",
    "accuracy_score(y_pred_01, y_val)"
   ]
  },
  {
   "cell_type": "code",
   "execution_count": 23,
   "id": "6fa83f93-2983-4c1e-9661-a76df52ae6e3",
   "metadata": {},
   "outputs": [
    {
     "name": "stdout",
     "output_type": "stream",
     "text": [
      "Fitting 2 folds for each of 75 candidates, totalling 150 fits\n",
      "[CV 1/2] END ........C=0.1, gamma=1, kernel=rbf;, score=0.113 total time=  35.9s\n",
      "[CV 2/2] END ........C=0.1, gamma=1, kernel=rbf;, score=0.113 total time=  34.2s\n",
      "[CV 1/2] END .....C=0.1, gamma=1, kernel=linear;, score=0.916 total time=   4.7s\n",
      "[CV 2/2] END .....C=0.1, gamma=1, kernel=linear;, score=0.907 total time=   4.4s\n",
      "[CV 1/2] END .......C=0.1, gamma=1, kernel=poly;, score=0.946 total time=  11.1s\n",
      "[CV 2/2] END .......C=0.1, gamma=1, kernel=poly;, score=0.933 total time=  11.6s\n",
      "[CV 1/2] END ......C=0.1, gamma=0.1, kernel=rbf;, score=0.113 total time=  32.0s\n",
      "[CV 2/2] END ......C=0.1, gamma=0.1, kernel=rbf;, score=0.113 total time=  31.7s\n",
      "[CV 1/2] END ...C=0.1, gamma=0.1, kernel=linear;, score=0.916 total time=   4.7s\n",
      "[CV 2/2] END ...C=0.1, gamma=0.1, kernel=linear;, score=0.907 total time=   4.4s\n",
      "[CV 1/2] END .....C=0.1, gamma=0.1, kernel=poly;, score=0.946 total time=  10.6s\n",
      "[CV 2/2] END .....C=0.1, gamma=0.1, kernel=poly;, score=0.933 total time=  10.9s\n",
      "[CV 1/2] END .....C=0.1, gamma=0.01, kernel=rbf;, score=0.390 total time=  32.1s\n",
      "[CV 2/2] END .....C=0.1, gamma=0.01, kernel=rbf;, score=0.375 total time=  35.6s\n",
      "[CV 1/2] END ..C=0.1, gamma=0.01, kernel=linear;, score=0.916 total time=   6.5s\n",
      "[CV 2/2] END ..C=0.1, gamma=0.01, kernel=linear;, score=0.907 total time=   5.4s\n",
      "[CV 1/2] END ....C=0.1, gamma=0.01, kernel=poly;, score=0.947 total time=  13.0s\n",
      "[CV 2/2] END ....C=0.1, gamma=0.01, kernel=poly;, score=0.933 total time=  13.9s\n",
      "[CV 1/2] END ....C=0.1, gamma=0.001, kernel=rbf;, score=0.856 total time=  28.5s\n",
      "[CV 2/2] END ....C=0.1, gamma=0.001, kernel=rbf;, score=0.855 total time=  31.1s\n",
      "[CV 1/2] END .C=0.1, gamma=0.001, kernel=linear;, score=0.916 total time=   6.9s\n",
      "[CV 2/2] END .C=0.1, gamma=0.001, kernel=linear;, score=0.907 total time=   7.2s\n",
      "[CV 1/2] END ...C=0.1, gamma=0.001, kernel=poly;, score=0.207 total time=  29.8s\n",
      "[CV 2/2] END ...C=0.1, gamma=0.001, kernel=poly;, score=0.207 total time=  36.1s\n",
      "[CV 1/2] END ...C=0.1, gamma=0.0001, kernel=rbf;, score=0.680 total time=  45.1s\n",
      "[CV 2/2] END ...C=0.1, gamma=0.0001, kernel=rbf;, score=0.696 total time=  44.6s\n",
      "[CV 1/2] END C=0.1, gamma=0.0001, kernel=linear;, score=0.916 total time=   7.1s\n",
      "[CV 2/2] END C=0.1, gamma=0.0001, kernel=linear;, score=0.907 total time=   5.4s\n",
      "[CV 1/2] END ..C=0.1, gamma=0.0001, kernel=poly;, score=0.113 total time=  32.6s\n",
      "[CV 2/2] END ..C=0.1, gamma=0.0001, kernel=poly;, score=0.113 total time=  39.8s\n",
      "[CV 1/2] END ..........C=1, gamma=1, kernel=rbf;, score=0.113 total time=  41.8s\n",
      "[CV 2/2] END ..........C=1, gamma=1, kernel=rbf;, score=0.113 total time=  41.1s\n",
      "[CV 1/2] END .......C=1, gamma=1, kernel=linear;, score=0.916 total time=   6.2s\n",
      "[CV 2/2] END .......C=1, gamma=1, kernel=linear;, score=0.907 total time=   6.6s\n",
      "[CV 1/2] END .........C=1, gamma=1, kernel=poly;, score=0.946 total time=  18.2s\n",
      "[CV 2/2] END .........C=1, gamma=1, kernel=poly;, score=0.933 total time=  15.2s\n",
      "[CV 1/2] END ........C=1, gamma=0.1, kernel=rbf;, score=0.170 total time=  39.3s\n",
      "[CV 2/2] END ........C=1, gamma=0.1, kernel=rbf;, score=0.174 total time=  45.5s\n",
      "[CV 1/2] END .....C=1, gamma=0.1, kernel=linear;, score=0.916 total time=   6.9s\n",
      "[CV 2/2] END .....C=1, gamma=0.1, kernel=linear;, score=0.907 total time=   7.5s\n",
      "[CV 1/2] END .......C=1, gamma=0.1, kernel=poly;, score=0.946 total time=  24.1s\n",
      "[CV 2/2] END .......C=1, gamma=0.1, kernel=poly;, score=0.933 total time=  20.0s\n",
      "[CV 1/2] END .......C=1, gamma=0.01, kernel=rbf;, score=0.734 total time=  40.1s\n",
      "[CV 2/2] END .......C=1, gamma=0.01, kernel=rbf;, score=0.728 total time=  40.6s\n",
      "[CV 1/2] END ....C=1, gamma=0.01, kernel=linear;, score=0.916 total time=   5.8s\n",
      "[CV 2/2] END ....C=1, gamma=0.01, kernel=linear;, score=0.907 total time=   7.7s\n",
      "[CV 1/2] END ......C=1, gamma=0.01, kernel=poly;, score=0.946 total time=  16.8s\n",
      "[CV 2/2] END ......C=1, gamma=0.01, kernel=poly;, score=0.933 total time=  22.6s\n",
      "[CV 1/2] END ......C=1, gamma=0.001, kernel=rbf;, score=0.928 total time=  23.1s\n",
      "[CV 2/2] END ......C=1, gamma=0.001, kernel=rbf;, score=0.921 total time=  23.2s\n",
      "[CV 1/2] END ...C=1, gamma=0.001, kernel=linear;, score=0.916 total time=  10.0s\n",
      "[CV 2/2] END ...C=1, gamma=0.001, kernel=linear;, score=0.907 total time=   9.5s\n",
      "[CV 1/2] END .....C=1, gamma=0.001, kernel=poly;, score=0.719 total time=  28.3s\n",
      "[CV 2/2] END .....C=1, gamma=0.001, kernel=poly;, score=0.692 total time=  36.8s\n",
      "[CV 1/2] END .....C=1, gamma=0.0001, kernel=rbf;, score=0.897 total time=  27.5s\n",
      "[CV 2/2] END .....C=1, gamma=0.0001, kernel=rbf;, score=0.892 total time=  26.5s\n",
      "[CV 1/2] END ..C=1, gamma=0.0001, kernel=linear;, score=0.916 total time=   7.2s\n",
      "[CV 2/2] END ..C=1, gamma=0.0001, kernel=linear;, score=0.907 total time=   8.7s\n",
      "[CV 1/2] END ....C=1, gamma=0.0001, kernel=poly;, score=0.113 total time=  36.2s\n",
      "[CV 2/2] END ....C=1, gamma=0.0001, kernel=poly;, score=0.113 total time=  32.0s\n",
      "[CV 1/2] END .........C=10, gamma=1, kernel=rbf;, score=0.113 total time=  47.1s\n",
      "[CV 2/2] END .........C=10, gamma=1, kernel=rbf;, score=0.113 total time=  38.4s\n",
      "[CV 1/2] END ......C=10, gamma=1, kernel=linear;, score=0.916 total time=   5.1s\n",
      "[CV 2/2] END ......C=10, gamma=1, kernel=linear;, score=0.907 total time=   4.6s\n",
      "[CV 1/2] END ........C=10, gamma=1, kernel=poly;, score=0.946 total time=  11.6s\n",
      "[CV 2/2] END ........C=10, gamma=1, kernel=poly;, score=0.933 total time=  10.9s\n",
      "[CV 1/2] END .......C=10, gamma=0.1, kernel=rbf;, score=0.174 total time=  34.5s\n",
      "[CV 2/2] END .......C=10, gamma=0.1, kernel=rbf;, score=0.177 total time=  34.7s\n",
      "[CV 1/2] END ....C=10, gamma=0.1, kernel=linear;, score=0.916 total time=   5.4s\n",
      "[CV 2/2] END ....C=10, gamma=0.1, kernel=linear;, score=0.907 total time=   5.0s\n",
      "[CV 1/2] END ......C=10, gamma=0.1, kernel=poly;, score=0.946 total time=  13.6s\n",
      "[CV 2/2] END ......C=10, gamma=0.1, kernel=poly;, score=0.933 total time=  14.2s\n",
      "[CV 1/2] END ......C=10, gamma=0.01, kernel=rbf;, score=0.755 total time=  41.9s\n",
      "[CV 2/2] END ......C=10, gamma=0.01, kernel=rbf;, score=0.743 total time= 1.1min\n",
      "[CV 1/2] END ...C=10, gamma=0.01, kernel=linear;, score=0.916 total time=   6.1s\n",
      "[CV 2/2] END ...C=10, gamma=0.01, kernel=linear;, score=0.907 total time=   6.1s\n",
      "[CV 1/2] END .....C=10, gamma=0.01, kernel=poly;, score=0.946 total time=  12.6s\n",
      "[CV 2/2] END .....C=10, gamma=0.01, kernel=poly;, score=0.933 total time=  12.7s\n",
      "[CV 1/2] END .....C=10, gamma=0.001, kernel=rbf;, score=0.936 total time=  12.1s\n",
      "[CV 2/2] END .....C=10, gamma=0.001, kernel=rbf;, score=0.928 total time=  13.9s\n",
      "[CV 1/2] END ..C=10, gamma=0.001, kernel=linear;, score=0.916 total time=   7.7s\n",
      "[CV 2/2] END ..C=10, gamma=0.001, kernel=linear;, score=0.907 total time=   7.5s\n",
      "[CV 1/2] END ....C=10, gamma=0.001, kernel=poly;, score=0.917 total time=  18.6s\n",
      "[CV 2/2] END ....C=10, gamma=0.001, kernel=poly;, score=0.897 total time=  19.1s\n",
      "[CV 1/2] END ....C=10, gamma=0.0001, kernel=rbf;, score=0.930 total time=  18.4s\n",
      "[CV 2/2] END ....C=10, gamma=0.0001, kernel=rbf;, score=0.921 total time=  18.6s\n",
      "[CV 1/2] END .C=10, gamma=0.0001, kernel=linear;, score=0.916 total time=   9.3s\n",
      "[CV 2/2] END .C=10, gamma=0.0001, kernel=linear;, score=0.907 total time=   9.7s\n",
      "[CV 1/2] END ...C=10, gamma=0.0001, kernel=poly;, score=0.119 total time=  40.7s\n",
      "[CV 2/2] END ...C=10, gamma=0.0001, kernel=poly;, score=0.118 total time=  32.7s\n",
      "[CV 1/2] END ........C=100, gamma=1, kernel=rbf;, score=0.113 total time=  48.0s\n",
      "[CV 2/2] END ........C=100, gamma=1, kernel=rbf;, score=0.113 total time=  50.5s\n",
      "[CV 1/2] END .....C=100, gamma=1, kernel=linear;, score=0.916 total time=   6.1s\n",
      "[CV 2/2] END .....C=100, gamma=1, kernel=linear;, score=0.907 total time=   6.9s\n",
      "[CV 1/2] END .......C=100, gamma=1, kernel=poly;, score=0.946 total time=  15.3s\n",
      "[CV 2/2] END .......C=100, gamma=1, kernel=poly;, score=0.933 total time=  15.0s\n",
      "[CV 1/2] END ......C=100, gamma=0.1, kernel=rbf;, score=0.174 total time=  43.4s\n",
      "[CV 2/2] END ......C=100, gamma=0.1, kernel=rbf;, score=0.177 total time=  44.5s\n",
      "[CV 1/2] END ...C=100, gamma=0.1, kernel=linear;, score=0.916 total time=   5.7s\n",
      "[CV 2/2] END ...C=100, gamma=0.1, kernel=linear;, score=0.907 total time=   7.1s\n",
      "[CV 1/2] END .....C=100, gamma=0.1, kernel=poly;, score=0.946 total time=  13.4s\n",
      "[CV 2/2] END .....C=100, gamma=0.1, kernel=poly;, score=0.933 total time=  14.8s\n",
      "[CV 1/2] END .....C=100, gamma=0.01, kernel=rbf;, score=0.755 total time=  45.0s\n",
      "[CV 2/2] END .....C=100, gamma=0.01, kernel=rbf;, score=0.743 total time= 1.0min\n",
      "[CV 1/2] END ..C=100, gamma=0.01, kernel=linear;, score=0.916 total time=   9.4s\n",
      "[CV 2/2] END ..C=100, gamma=0.01, kernel=linear;, score=0.907 total time=   9.3s\n",
      "[CV 1/2] END ....C=100, gamma=0.01, kernel=poly;, score=0.946 total time=  25.4s\n",
      "[CV 2/2] END ....C=100, gamma=0.01, kernel=poly;, score=0.933 total time=  24.3s\n",
      "[CV 1/2] END ....C=100, gamma=0.001, kernel=rbf;, score=0.935 total time=  18.3s\n",
      "[CV 2/2] END ....C=100, gamma=0.001, kernel=rbf;, score=0.928 total time=  16.7s\n",
      "[CV 1/2] END .C=100, gamma=0.001, kernel=linear;, score=0.916 total time=   7.4s\n",
      "[CV 2/2] END .C=100, gamma=0.001, kernel=linear;, score=0.907 total time=   6.2s\n",
      "[CV 1/2] END ...C=100, gamma=0.001, kernel=poly;, score=0.947 total time=  15.4s\n",
      "[CV 2/2] END ...C=100, gamma=0.001, kernel=poly;, score=0.933 total time=  14.0s\n",
      "[CV 1/2] END ...C=100, gamma=0.0001, kernel=rbf;, score=0.926 total time=  10.7s\n",
      "[CV 2/2] END ...C=100, gamma=0.0001, kernel=rbf;, score=0.920 total time=  11.4s\n",
      "[CV 1/2] END C=100, gamma=0.0001, kernel=linear;, score=0.916 total time=   6.3s\n",
      "[CV 2/2] END C=100, gamma=0.0001, kernel=linear;, score=0.907 total time=   7.1s\n",
      "[CV 1/2] END ..C=100, gamma=0.0001, kernel=poly;, score=0.207 total time=  32.5s\n",
      "[CV 2/2] END ..C=100, gamma=0.0001, kernel=poly;, score=0.207 total time=  30.5s\n",
      "[CV 1/2] END .......C=1000, gamma=1, kernel=rbf;, score=0.113 total time=  46.5s\n",
      "[CV 2/2] END .......C=1000, gamma=1, kernel=rbf;, score=0.113 total time=  45.9s\n",
      "[CV 1/2] END ....C=1000, gamma=1, kernel=linear;, score=0.916 total time=   6.1s\n",
      "[CV 2/2] END ....C=1000, gamma=1, kernel=linear;, score=0.907 total time=   5.9s\n",
      "[CV 1/2] END ......C=1000, gamma=1, kernel=poly;, score=0.946 total time=  14.7s\n",
      "[CV 2/2] END ......C=1000, gamma=1, kernel=poly;, score=0.933 total time=  13.9s\n",
      "[CV 1/2] END .....C=1000, gamma=0.1, kernel=rbf;, score=0.174 total time=  44.7s\n",
      "[CV 2/2] END .....C=1000, gamma=0.1, kernel=rbf;, score=0.177 total time=  38.0s\n",
      "[CV 1/2] END ..C=1000, gamma=0.1, kernel=linear;, score=0.916 total time=   5.4s\n",
      "[CV 2/2] END ..C=1000, gamma=0.1, kernel=linear;, score=0.907 total time=   5.2s\n",
      "[CV 1/2] END ....C=1000, gamma=0.1, kernel=poly;, score=0.946 total time=  12.8s\n",
      "[CV 2/2] END ....C=1000, gamma=0.1, kernel=poly;, score=0.933 total time=  14.6s\n",
      "[CV 1/2] END ....C=1000, gamma=0.01, kernel=rbf;, score=0.755 total time=  34.9s\n",
      "[CV 2/2] END ....C=1000, gamma=0.01, kernel=rbf;, score=0.743 total time=  36.0s\n",
      "[CV 1/2] END .C=1000, gamma=0.01, kernel=linear;, score=0.916 total time=   5.7s\n",
      "[CV 2/2] END .C=1000, gamma=0.01, kernel=linear;, score=0.907 total time=   5.7s\n",
      "[CV 1/2] END ...C=1000, gamma=0.01, kernel=poly;, score=0.946 total time=  12.7s\n",
      "[CV 2/2] END ...C=1000, gamma=0.01, kernel=poly;, score=0.933 total time=  12.1s\n",
      "[CV 1/2] END ...C=1000, gamma=0.001, kernel=rbf;, score=0.935 total time=  12.2s\n",
      "[CV 2/2] END ...C=1000, gamma=0.001, kernel=rbf;, score=0.928 total time=  12.7s\n",
      "[CV 1/2] END C=1000, gamma=0.001, kernel=linear;, score=0.916 total time=   5.1s\n",
      "[CV 2/2] END C=1000, gamma=0.001, kernel=linear;, score=0.907 total time=   5.5s\n",
      "[CV 1/2] END ..C=1000, gamma=0.001, kernel=poly;, score=0.946 total time=  12.5s\n",
      "[CV 2/2] END ..C=1000, gamma=0.001, kernel=poly;, score=0.933 total time=  12.6s\n",
      "[CV 1/2] END ..C=1000, gamma=0.0001, kernel=rbf;, score=0.921 total time=   8.7s\n",
      "[CV 2/2] END ..C=1000, gamma=0.0001, kernel=rbf;, score=0.914 total time=   8.4s\n",
      "[CV 1/2] END C=1000, gamma=0.0001, kernel=linear;, score=0.916 total time=   5.8s\n",
      "[CV 2/2] END C=1000, gamma=0.0001, kernel=linear;, score=0.907 total time=   5.2s\n",
      "[CV 1/2] END .C=1000, gamma=0.0001, kernel=poly;, score=0.719 total time=  21.8s\n",
      "[CV 2/2] END .C=1000, gamma=0.0001, kernel=poly;, score=0.692 total time=  21.9s\n",
      "{'C': 0.1, 'gamma': 1, 'kernel': 'poly'}\n",
      "SVC(C=0.1, gamma=1, kernel='poly', random_state=0)\n"
     ]
    }
   ],
   "source": [
    "# To see if the score can be improved, we´ll try a gridsearch to see if an hyperparameter altered model could perform better.\n",
    "\n",
    "# defining parameter range \n",
    "param_grid = {'C': [0.1, 1, 10, 100, 1000],  \n",
    "              'gamma': [1, 0.1, 0.01, 0.001, 0.0001], \n",
    "              'kernel': ['rbf', 'linear', 'poly']}  \n",
    "  \n",
    "grid_01 = GridSearchCV(model_01, param_grid, cv= 2, refit = True, verbose = 3) \n",
    "\n",
    "# fitting the model for grid search \n",
    "grid_01.fit(X_train_scaled, y_train) \n",
    "\n",
    "# print best parameter after tuning \n",
    "print(grid_01.best_params_) \n",
    "  \n",
    "# print how our model looks after hyper-parameter tuning \n",
    "print(grid_01.best_estimator_) "
   ]
  },
  {
   "cell_type": "code",
   "execution_count": 13,
   "id": "59983a48-97c5-4644-8c32-9293d57ac8de",
   "metadata": {},
   "outputs": [
    {
     "data": {
      "text/plain": [
       "0.9605"
      ]
     },
     "execution_count": 13,
     "metadata": {},
     "output_type": "execute_result"
    }
   ],
   "source": [
    "# Results\n",
    "# {'C': 0.1, 'gamma': 1, 'kernel': 'poly'}\n",
    "# SVC(C=0.1, gamma=1, kernel='poly', random_state=0)\n",
    "\n",
    "# Testing the tuned model on the validation set\n",
    "model_01v2 = svm.SVC(kernel='poly', gamma=1, C=0.1, random_state = 0)\n",
    "model_01v2.fit(X_train_scaled, y_train) \n",
    "\n",
    "# Predict on validation set\n",
    "y_pred_01v2 = model_01v2.predict(X_val_scaled)\n",
    "# print score\n",
    "accuracy_score(y_pred_01v2, y_val)"
   ]
  },
  {
   "cell_type": "markdown",
   "id": "3135e05b-1838-49e1-a78d-2ec937e4b8d1",
   "metadata": {},
   "source": [
    "### 0.9605 result from tuned poly SCV model. Ok result. Let´s try Random Forest Classifier "
   ]
  },
  {
   "cell_type": "code",
   "execution_count": 23,
   "id": "8333d602-a99d-4c07-a87e-8867e23e40aa",
   "metadata": {},
   "outputs": [
    {
     "data": {
      "text/plain": [
       "0.9495"
      ]
     },
     "execution_count": 23,
     "metadata": {},
     "output_type": "execute_result"
    }
   ],
   "source": [
    "# Testing Random Forest Classifier\n",
    "model_02 = RandomForestClassifier() \n",
    "model_02.fit(X_train_scaled, y_train) \n",
    "  \n",
    "# Predict on validation set\n",
    "y_pred_02 = model_02.predict(X_val_scaled)\n",
    "# print score\n",
    "accuracy_score(y_pred_02, y_val)"
   ]
  },
  {
   "cell_type": "code",
   "execution_count": 15,
   "id": "d135dd9f-953c-4166-810d-68fe8d9005d8",
   "metadata": {},
   "outputs": [
    {
     "name": "stdout",
     "output_type": "stream",
     "text": [
      "Fitting 2 folds for each of 12 candidates, totalling 24 fits\n",
      "[CV 1/2] END max_features=sqrt, n_estimators=25;, score=0.918 total time=   0.7s\n",
      "[CV 2/2] END max_features=sqrt, n_estimators=25;, score=0.917 total time=   0.7s\n",
      "[CV 1/2] END max_features=sqrt, n_estimators=50;, score=0.932 total time=   1.4s\n",
      "[CV 2/2] END max_features=sqrt, n_estimators=50;, score=0.929 total time=   1.4s\n",
      "[CV 1/2] END max_features=sqrt, n_estimators=100;, score=0.940 total time=   2.9s\n",
      "[CV 2/2] END max_features=sqrt, n_estimators=100;, score=0.933 total time=   2.8s\n",
      "[CV 1/2] END max_features=sqrt, n_estimators=150;, score=0.943 total time=   4.5s\n",
      "[CV 2/2] END max_features=sqrt, n_estimators=150;, score=0.935 total time=   4.4s\n",
      "[CV 1/2] END max_features=log2, n_estimators=25;, score=0.916 total time=   0.3s\n",
      "[CV 2/2] END max_features=log2, n_estimators=25;, score=0.904 total time=   0.3s\n",
      "[CV 1/2] END max_features=log2, n_estimators=50;, score=0.923 total time=   0.7s\n",
      "[CV 2/2] END max_features=log2, n_estimators=50;, score=0.925 total time=   0.6s\n",
      "[CV 1/2] END max_features=log2, n_estimators=100;, score=0.933 total time=   1.3s\n",
      "[CV 2/2] END max_features=log2, n_estimators=100;, score=0.932 total time=   1.4s\n",
      "[CV 1/2] END max_features=log2, n_estimators=150;, score=0.940 total time=   2.0s\n",
      "[CV 2/2] END max_features=log2, n_estimators=150;, score=0.935 total time=   2.1s\n",
      "[CV 1/2] END max_features=None, n_estimators=25;, score=0.899 total time=  15.5s\n",
      "[CV 2/2] END max_features=None, n_estimators=25;, score=0.910 total time=  15.9s\n",
      "[CV 1/2] END max_features=None, n_estimators=50;, score=0.909 total time=  30.9s\n",
      "[CV 2/2] END max_features=None, n_estimators=50;, score=0.913 total time=  31.7s\n",
      "[CV 1/2] END max_features=None, n_estimators=100;, score=0.911 total time= 1.0min\n",
      "[CV 2/2] END max_features=None, n_estimators=100;, score=0.917 total time= 1.0min\n",
      "[CV 1/2] END max_features=None, n_estimators=150;, score=0.912 total time= 1.6min\n",
      "[CV 2/2] END max_features=None, n_estimators=150;, score=0.917 total time= 1.6min\n",
      "{'max_features': 'sqrt', 'n_estimators': 150}\n",
      "RandomForestClassifier(n_estimators=150)\n"
     ]
    }
   ],
   "source": [
    "# 0.9459, Better result than un-tuned SVC model.\n",
    "\n",
    "# Now let´s try tuning hyperparameters of RFC\n",
    "\n",
    "param_grid = { \n",
    "    'n_estimators': [25, 50, 100, 150], \n",
    "    'max_features': ['sqrt', 'log2', None],\n",
    "} \n",
    "\n",
    "grid_02 = GridSearchCV(model_02, cv= 2, refit = True, verbose = 3,\n",
    "                           param_grid=param_grid) \n",
    "\n",
    "# fitting the model for grid search \n",
    "grid_02.fit(X_train_scaled, y_train) \n",
    "\n",
    "# print best parameter after tuning \n",
    "print(grid_02.best_params_) \n",
    "  \n",
    "# print how our model looks after hyper-parameter tuning \n",
    "print(grid_02.best_estimator_) "
   ]
  },
  {
   "cell_type": "code",
   "execution_count": 16,
   "id": "51995b89-5ed1-4b84-8244-a520b2fa6ab9",
   "metadata": {},
   "outputs": [
    {
     "data": {
      "text/plain": [
       "0.9505"
      ]
     },
     "execution_count": 16,
     "metadata": {},
     "output_type": "execute_result"
    }
   ],
   "source": [
    "# Testing the tuned RFC model.\n",
    "\n",
    "model_02v2 = RandomForestClassifier(max_features=\"sqrt\", \n",
    "                                    n_estimators=150) \n",
    "model_02v2.fit(X_train_scaled, y_train) \n",
    "\n",
    "# Predict on validation set\n",
    "y_pred_02v2 = model_02v2.predict(X_val_scaled)\n",
    "# print score\n",
    "accuracy_score(y_pred_02v2, y_val)"
   ]
  },
  {
   "cell_type": "code",
   "execution_count": null,
   "id": "d4438977-a394-4f8e-80c4-a086de0065ca",
   "metadata": {},
   "outputs": [],
   "source": [
    "# A bit worse than the default hyper parameters."
   ]
  },
  {
   "cell_type": "markdown",
   "id": "c81ed3b3-dc04-406d-8b56-d84af1889523",
   "metadata": {},
   "source": [
    "## Evaluation on test data"
   ]
  },
  {
   "cell_type": "code",
   "execution_count": 20,
   "id": "aad2a0ce-0428-4118-a2c4-fab94aee1fea",
   "metadata": {},
   "outputs": [
    {
     "data": {
      "text/plain": [
       "0.96"
      ]
     },
     "execution_count": 20,
     "metadata": {},
     "output_type": "execute_result"
    }
   ],
   "source": [
    "# The tuned poly SCV model was best on accuracy score.\n",
    "y_pred_test = model_01v2.predict(X_test_scaled)\n",
    "accuracy_score(y_test, y_pred_test)\n"
   ]
  },
  {
   "cell_type": "code",
   "execution_count": 21,
   "id": "9db9f1c3-1e1b-421c-ab97-dd6cb0b683ea",
   "metadata": {},
   "outputs": [
    {
     "data": {
      "text/plain": [
       "<sklearn.metrics._plot.confusion_matrix.ConfusionMatrixDisplay at 0x27a83a9ecd0>"
      ]
     },
     "execution_count": 21,
     "metadata": {},
     "output_type": "execute_result"
    },
    {
     "data": {
      "image/png": "[encoded data removed]",
      "text/plain": [
       "<Figure size 640x480 with 2 Axes>"
      ]
     },
     "metadata": {},
     "output_type": "display_data"
    }
   ],
   "source": [
    "ConfusionMatrixDisplay(confusion_matrix(y_test, y_pred_test)).plot()"
   ]
  },
  {
   "cell_type": "markdown",
   "id": "553bf0e4-5e50-4a4f-b124-4d9b1331baab",
   "metadata": {},
   "source": [
    "## Save model"
   ]
  },
  {
   "cell_type": "code",
   "execution_count": 24,
   "id": "f8c0bb79-fe1b-40b4-ad93-824c5fb17d13",
   "metadata": {},
   "outputs": [
    {
     "data": {
      "text/plain": [
       "['joblibmodelRFC.pkl']"
      ]
     },
     "execution_count": 24,
     "metadata": {},
     "output_type": "execute_result"
    }
   ],
   "source": [
    "import pickle\n",
    "# Save with pickle\n",
    "with open('picklemodelRFC.pkl', 'wb') as f:\n",
    "    pickle.dump(model_02, f)\n",
    "\n",
    "import joblib\n",
    "# Save with joblib\n",
    "joblib.dump(model_02, 'joblibmodelRFC.pkl')\n",
    "\n",
    "\n",
    "#import with pickle\n",
    "#with open('picklemodel.pkl', 'rb') as f:\n",
    "#    loadedModel = pickle.load(f)\n",
    "\n",
    "# import with joblib\n",
    "#LoadedModel = joblib.load(\"joblibmodel.pkl\")"
   ]
  },
  {
   "cell_type": "code",
   "execution_count": 12,
   "id": "a09872cf-c49b-407c-8952-4347a022f2cf",
   "metadata": {},
   "outputs": [
    {
     "data": {
      "text/plain": [
       "array([5, 0, 4, ..., 6, 9, 7], dtype=uint8)"
      ]
     },
     "execution_count": 12,
     "metadata": {},
     "output_type": "execute_result"
    }
   ],
   "source": [
    "import pickle\n",
    "import joblib\n",
    "LoadedModel = joblib.load(\"joblibmodel.pkl\")\n",
    "LoadedModel.predict(X_train_scaled)"
   ]
  },
  {
   "cell_type": "code",
   "execution_count": 17,
   "id": "6e6600ba-4ab0-48bf-b6db-163e2a264e16",
   "metadata": {},
   "outputs": [],
   "source": [
    "with open('./picklemodelRFC.pkl', 'wb') as f:\n",
    "    pickle.dump(model_02, f)\n",
    "joblib.dump(model_02, './joblibmodelRFC.pkl')  \n",
    "pickle.dump(model_02, open(\"save.pkl\", \"wb\"))"
   ]
  }
 ],
 "metadata": {
  "kernelspec": {
   "display_name": "Python 3 (ipykernel)",
   "language": "python",
   "name": "python3"
  },
  "language_info": {
   "codemirror_mode": {
    "name": "ipython",
    "version": 3
   },
   "file_extension": ".py",
   "mimetype": "text/x-python",
   "name": "python",
   "nbconvert_exporter": "python",
   "pygments_lexer": "ipython3",
   "version": "3.11.3"
  }
 },
 "nbformat": 4,
 "nbformat_minor": 5
}
